{
  "nbformat": 4,
  "nbformat_minor": 0,
  "metadata": {
    "colab": {
      "name": "4_fcn_single_layer.ipynb",
      "provenance": [],
      "include_colab_link": true
    },
    "kernelspec": {
      "name": "python3",
      "display_name": "Python 3"
    },
    "accelerator": "GPU"
  },
  "cells": [
    {
      "cell_type": "markdown",
      "metadata": {
        "id": "view-in-github",
        "colab_type": "text"
      },
      "source": [
        "<a href=\"https://colab.research.google.com/github/LilianYou/dark-lily/blob/master/4_fcn_single_layer.ipynb\" target=\"_parent\"><img src=\"https://colab.research.google.com/assets/colab-badge.svg\" alt=\"Open In Colab\"/></a>"
      ]
    },
    {
      "cell_type": "markdown",
      "metadata": {
        "id": "w0RJaVus6Tm6",
        "colab_type": "text"
      },
      "source": [
        "# PSYCH 239: Week 2: Fully Connected Neural Network for Visual Classification\n"
      ]
    },
    {
      "cell_type": "code",
      "metadata": {
        "id": "mTY3javQ6OBE",
        "colab_type": "code",
        "colab": {}
      },
      "source": [
        "import torch\n",
        "from torchvision import datasets, transforms"
      ],
      "execution_count": 0,
      "outputs": []
    },
    {
      "cell_type": "code",
      "metadata": {
        "id": "DSVc6ghGIVhe",
        "colab_type": "code",
        "colab": {}
      },
      "source": [
        "class toOneHot(object):\n",
        "    def __init__(self, num_classes):\n",
        "        self.num_classes = num_classes\n",
        "\n",
        "    def __call__(self, integer):\n",
        "        y_onehot = torch.zeros(self.num_classes)\n",
        "        y_onehot[integer]=1\n",
        "        return y_onehot"
      ],
      "execution_count": 0,
      "outputs": []
    },
    {
      "cell_type": "code",
      "metadata": {
        "id": "MR0CDNidvI4p",
        "colab_type": "code",
        "colab": {}
      },
      "source": [
        "train_set = datasets.MNIST('./data',\n",
        "                           train=True, download=True,\n",
        "                           transform=transforms.Compose([\n",
        "                             transforms.ToTensor(),\n",
        "                             transforms.Normalize((0.1307,), (0.3081,))\n",
        "                             ]),\n",
        "                           target_transform = toOneHot(num_classes = 10),)\n",
        "train_loader = torch.utils.data.DataLoader(train_set, batch_size=100, shuffle=True)"
      ],
      "execution_count": 0,
      "outputs": []
    },
    {
      "cell_type": "code",
      "metadata": {
        "colab_type": "code",
        "id": "ct9zhvY-28a2",
        "colab": {}
      },
      "source": [
        "test_set = datasets.MNIST('./data',\n",
        "                           train=False, download=True,\n",
        "                           transform=transforms.Compose([\n",
        "                             transforms.ToTensor(),\n",
        "                             transforms.Normalize((0.1307,), (0.3081,))\n",
        "                             ]),\n",
        "                           target_transform = toOneHot(num_classes = 10),)\n",
        "test_loader = torch.utils.data.DataLoader(test_set, batch_size=100, shuffle=True)"
      ],
      "execution_count": 0,
      "outputs": []
    },
    {
      "cell_type": "code",
      "metadata": {
        "id": "DCocuAEn3RzR",
        "colab_type": "code",
        "colab": {}
      },
      "source": [
        "net = torch.nn.Sequential(torch.nn.Linear(784, 10),\n",
        "                                  torch.nn.Sigmoid())"
      ],
      "execution_count": 0,
      "outputs": []
    },
    {
      "cell_type": "code",
      "metadata": {
        "id": "_o5OhB0-3DCT",
        "colab_type": "code",
        "colab": {}
      },
      "source": [
        "mse_loss = torch.nn.MSELoss()\n",
        "opt = torch.optim.Adam(net.parameters(), lr=1e-3)"
      ],
      "execution_count": 0,
      "outputs": []
    },
    {
      "cell_type": "code",
      "metadata": {
        "id": "SN8gvPwB3ii0",
        "colab_type": "code",
        "colab": {}
      },
      "source": [
        "def train_step(x, t, net, opt_fn, loss_fn):\n",
        "    y = net(x)\n",
        "    loss = loss_fn(y, t)\n",
        "    loss.backward()\n",
        "    opt_fn.step()\n",
        "    opt_fn.zero_grad()\n",
        "    return loss"
      ],
      "execution_count": 0,
      "outputs": []
    },
    {
      "cell_type": "code",
      "metadata": {
        "id": "Z-H403Yx3pyc",
        "colab_type": "code",
        "outputId": "3b5153af-bc24-400d-892a-e7e7125d9143",
        "colab": {
          "base_uri": "https://localhost:8080/",
          "height": 34
        }
      },
      "source": [
        "x,t = next(iter(train_loader))\n",
        "train_step(x.view(-1,784), t, net, opt, mse_loss)"
      ],
      "execution_count": 0,
      "outputs": [
        {
          "output_type": "execute_result",
          "data": {
            "text/plain": [
              "tensor(0.2478, grad_fn=<MseLossBackward>)"
            ]
          },
          "metadata": {
            "tags": []
          },
          "execution_count": 34
        }
      ]
    },
    {
      "cell_type": "markdown",
      "metadata": {
        "id": "9sv16pTbKiCs",
        "colab_type": "text"
      },
      "source": [
        "Make prediction"
      ]
    },
    {
      "cell_type": "code",
      "metadata": {
        "id": "MZ9MzbPqKgt4",
        "colab_type": "code",
        "colab": {}
      },
      "source": [
        "for x,t in iter(test_loader):   \n",
        "    y = net(x.view(-1,784))"
      ],
      "execution_count": 0,
      "outputs": []
    },
    {
      "cell_type": "code",
      "metadata": {
        "id": "H84JC0YiKsrQ",
        "colab_type": "code",
        "outputId": "b9662a2c-2889-4bff-aeeb-7c21046ee0b0",
        "colab": {
          "base_uri": "https://localhost:8080/",
          "height": 104
        }
      },
      "source": [
        "y.argmax(1)"
      ],
      "execution_count": 0,
      "outputs": [
        {
          "output_type": "execute_result",
          "data": {
            "text/plain": [
              "tensor([2, 1, 5, 0, 2, 5, 5, 5, 5, 0, 5, 5, 0, 0, 4, 5, 5, 5, 5, 5, 5, 0, 4, 4,\n",
              "        5, 4, 5, 0, 7, 5, 1, 4, 5, 5, 1, 5, 6, 5, 5, 0, 6, 3, 6, 6, 5, 5, 5, 0,\n",
              "        3, 5, 5, 5, 5, 2, 1, 5, 2, 5, 2, 5, 4, 5, 4, 5, 5, 6, 5, 0, 2, 5, 5, 5,\n",
              "        6, 5, 5, 4, 1, 5, 5, 6, 4, 6, 2, 5, 5, 5, 3, 5, 5, 5, 5, 5, 0, 9, 3, 5,\n",
              "        2, 2, 1, 0])"
            ]
          },
          "metadata": {
            "tags": []
          },
          "execution_count": 36
        }
      ]
    },
    {
      "cell_type": "markdown",
      "metadata": {
        "id": "6P2-QmXzLxMp",
        "colab_type": "text"
      },
      "source": [
        "Calculate accuracy"
      ]
    },
    {
      "cell_type": "code",
      "metadata": {
        "id": "ZTs5iXD9Kx_q",
        "colab_type": "code",
        "outputId": "b7a2848f-970e-44dc-8f51-550f32834737",
        "colab": {
          "base_uri": "https://localhost:8080/",
          "height": 34
        }
      },
      "source": [
        "torch.mean((t.argmax(1) == y.argmax(1)).float())"
      ],
      "execution_count": 0,
      "outputs": [
        {
          "output_type": "execute_result",
          "data": {
            "text/plain": [
              "tensor(0.1100)"
            ]
          },
          "metadata": {
            "tags": []
          },
          "execution_count": 37
        }
      ]
    },
    {
      "cell_type": "markdown",
      "metadata": {
        "id": "f2v9wxauLzM1",
        "colab_type": "text"
      },
      "source": [
        "Train the network over multiple epochs"
      ]
    },
    {
      "cell_type": "code",
      "metadata": {
        "id": "nEqGnWEfJcsP",
        "colab_type": "code",
        "outputId": "caef037d-be4e-43b0-c38b-ecae3055f2a2",
        "colab": {
          "base_uri": "https://localhost:8080/",
          "height": 104
        }
      },
      "source": [
        "acc_hist_train = []\n",
        "acc_hist_test = []\n",
        "for epoch in range(5):\n",
        "    acc_batch = []\n",
        "    for x,t in iter(train_loader):   \n",
        "        loss_ = train_step(x.view(-1,784), t, net, opt, mse_loss)\n",
        "        y = net(x.view(-1,784))\n",
        "        acc_batch.append(torch.mean((t.argmax(1) == y.argmax(1)).float()))\n",
        "    acc_hist_train.append(torch.mean(torch.FloatTensor(acc_batch)))   \n",
        "    print(loss_)\n",
        "\n",
        "    acc_batch = []\n",
        "    for x,t in iter(test_loader):   \n",
        "        y = net(x.view(-1,784))\n",
        "        acc_batch.append(torch.mean((t.argmax(1) == y.argmax(1)).float()))\n",
        "    acc_hist_test.append(torch.mean(torch.FloatTensor(acc_batch)))   "
      ],
      "execution_count": 0,
      "outputs": [
        {
          "output_type": "stream",
          "text": [
            "tensor(0.0164, grad_fn=<MseLossBackward>)\n",
            "tensor(0.0139, grad_fn=<MseLossBackward>)\n",
            "tensor(0.0142, grad_fn=<MseLossBackward>)\n",
            "tensor(0.0169, grad_fn=<MseLossBackward>)\n",
            "tensor(0.0207, grad_fn=<MseLossBackward>)\n"
          ],
          "name": "stdout"
        }
      ]
    },
    {
      "cell_type": "code",
      "metadata": {
        "id": "6cT4xVj8Rpdk",
        "colab_type": "code",
        "outputId": "ed439bb5-493d-4e76-afed-58d5f2381f71",
        "colab": {
          "base_uri": "https://localhost:8080/",
          "height": 104
        }
      },
      "source": [
        "acc_hist_train"
      ],
      "execution_count": 0,
      "outputs": [
        {
          "output_type": "execute_result",
          "data": {
            "text/plain": [
              "[tensor(0.8486),\n",
              " tensor(0.9053),\n",
              " tensor(0.9121),\n",
              " tensor(0.9153),\n",
              " tensor(0.9176)]"
            ]
          },
          "metadata": {
            "tags": []
          },
          "execution_count": 39
        }
      ]
    },
    {
      "cell_type": "code",
      "metadata": {
        "id": "zFu8c5aXTxNb",
        "colab_type": "code",
        "outputId": "007f4b09-fbdb-456c-c4fd-5e7acf7f2f85",
        "colab": {
          "base_uri": "https://localhost:8080/",
          "height": 104
        }
      },
      "source": [
        "acc_hist_test"
      ],
      "execution_count": 0,
      "outputs": [
        {
          "output_type": "execute_result",
          "data": {
            "text/plain": [
              "[tensor(0.9080),\n",
              " tensor(0.9140),\n",
              " tensor(0.9167),\n",
              " tensor(0.9173),\n",
              " tensor(0.9184)]"
            ]
          },
          "metadata": {
            "tags": []
          },
          "execution_count": 40
        }
      ]
    },
    {
      "cell_type": "code",
      "metadata": {
        "id": "3ZI535c5TzT9",
        "colab_type": "code",
        "outputId": "172c5fe4-07a6-41ac-fa39-6ba7bad810a4",
        "colab": {
          "base_uri": "https://localhost:8080/",
          "height": 34
        }
      },
      "source": [
        "net[0]"
      ],
      "execution_count": 0,
      "outputs": [
        {
          "output_type": "execute_result",
          "data": {
            "text/plain": [
              "Linear(in_features=784, out_features=10, bias=True)"
            ]
          },
          "metadata": {
            "tags": []
          },
          "execution_count": 41
        }
      ]
    },
    {
      "cell_type": "code",
      "metadata": {
        "id": "zJQw8gM4T5-V",
        "colab_type": "code",
        "outputId": "2dd9a47b-59d2-453f-9f79-65ee6742b1af",
        "colab": {
          "base_uri": "https://localhost:8080/",
          "height": 1000
        }
      },
      "source": [
        "import pylab\n",
        "for i in range(10):\n",
        "    pylab.figure();\n",
        "    pylab.imshow(net[0].weight.data[i].view(28,28))"
      ],
      "execution_count": 0,
      "outputs": [
        {
          "output_type": "display_data",
          "data": {
            "image/png": "[encoded data removed]",
            "text/plain": [
              "<Figure size 432x288 with 1 Axes>"
            ]
          },
          "metadata": {
            "tags": []
          }
        },
        {
          "output_type": "display_data",
          "data": {
            "image/png": "[encoded data removed]",
            "text/plain": [
              "<Figure size 432x288 with 1 Axes>"
            ]
          },
          "metadata": {
            "tags": []
          }
        },
        {
          "output_type": "display_data",
          "data": {
            "image/png": "[encoded data removed]",
            "text/plain": [
              "<Figure size 432x288 with 1 Axes>"
            ]
          },
          "metadata": {
            "tags": []
          }
        },
        {
          "output_type": "display_data",
          "data": {
            "image/png": "[encoded data removed]",
            "text/plain": [
              "<Figure size 432x288 with 1 Axes>"
            ]
          },
          "metadata": {
            "tags": []
          }
        },
        {
          "output_type": "display_data",
          "data": {
            "image/png": "[encoded data removed]",
            "text/plain": [
              "<Figure size 432x288 with 1 Axes>"
            ]
          },
          "metadata": {
            "tags": []
          }
        },
        {
          "output_type": "display_data",
          "data": {
            "image/png": "[encoded data removed]",
            "text/plain": [
              "<Figure size 432x288 with 1 Axes>"
            ]
          },
          "metadata": {
            "tags": []
          }
        },
        {
          "output_type": "display_data",
          "data": {
            "image/png": "[encoded data removed]",
            "text/plain": [
              "<Figure size 432x288 with 1 Axes>"
            ]
          },
          "metadata": {
            "tags": []
          }
        },
        {
          "output_type": "display_data",
          "data": {
            "image/png": "[encoded data removed]",
            "text/plain": [
              "<Figure size 432x288 with 1 Axes>"
            ]
          },
          "metadata": {
            "tags": []
          }
        },
        {
          "output_type": "display_data",
          "data": {
            "image/png": "[encoded data removed]",
            "text/plain": [
              "<Figure size 432x288 with 1 Axes>"
            ]
          },
          "metadata": {
            "tags": []
          }
        },
        {
          "output_type": "display_data",
          "data": {
            "image/png": "[encoded data removed]",
            "text/plain": [
              "<Figure size 432x288 with 1 Axes>"
            ]
          },
          "metadata": {
            "tags": []
          }
        }
      ]
    },
    {
      "cell_type": "code",
      "metadata": {
        "id": "16ow4uSlT8Ix",
        "colab_type": "code",
        "colab": {}
      },
      "source": [
        ""
      ],
      "execution_count": 0,
      "outputs": []
    }
  ]
}