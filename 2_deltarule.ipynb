{
  "nbformat": 4,
  "nbformat_minor": 0,
  "metadata": {
    "colab": {
      "name": "2_deltarule.ipynb",
      "provenance": [],
      "collapsed_sections": [],
      "include_colab_link": true
    },
    "kernelspec": {
      "name": "python3",
      "display_name": "Python 3"
    }
  },
  "cells": [
    {
      "cell_type": "markdown",
      "metadata": {
        "id": "view-in-github",
        "colab_type": "text"
      },
      "source": [
        "<a href=\"https://colab.research.google.com/github/LilianYou/dark-lily/blob/master/2_deltarule.ipynb\" target=\"_parent\"><img src=\"https://colab.research.google.com/assets/colab-badge.svg\" alt=\"Open In Colab\"/></a>"
      ]
    },
    {
      "cell_type": "markdown",
      "metadata": {
        "id": "GqQjPRdvSHIZ",
        "colab_type": "text"
      },
      "source": [
        "\n",
        "# PSYCH239 Lecture 2: Sigmoid Units and the Delta Learning Rule"
      ]
    },
    {
      "cell_type": "code",
      "metadata": {
        "id": "IGllBO8hmE76",
        "colab_type": "code",
        "colab": {}
      },
      "source": [
        "import numpy as np"
      ],
      "execution_count": 0,
      "outputs": []
    },
    {
      "cell_type": "markdown",
      "metadata": {
        "id": "mQqn1jaZmVif",
        "colab_type": "text"
      },
      "source": [
        "Creating data (this data is linearly separable). We use here a trick that subsumes the bias into a weight, whose input is always 1. "
      ]
    },
    {
      "cell_type": "code",
      "metadata": {
        "id": "5Kp7QXnSmcoO",
        "colab_type": "code",
        "colab": {}
      },
      "source": [
        "X = np.array([[ 1, 0.04187914, -0.16537444],\n",
        "        [ 1, 0.13746733,  0.60397647],\n",
        "        [ 1, 0.68489807,  0.78038369],\n",
        "        [ 1, 0.64652619, -0.05249682],\n",
        "        [1, -0.80712692,  0.68521631]])\n",
        "Y = np.array([-1,  1,  1, -1,  1])"
      ],
      "execution_count": 0,
      "outputs": []
    },
    {
      "cell_type": "markdown",
      "metadata": {
        "id": "nxFRZp-9-7Wr",
        "colab_type": "text"
      },
      "source": [
        "**Transform into one-hot form**"
      ]
    },
    {
      "cell_type": "code",
      "metadata": {
        "id": "u7PKj7S0-yzL",
        "colab_type": "code",
        "colab": {}
      },
      "source": [
        "Y1h = np.zeros([Y.shape[0],2])\n",
        "Y1h[Y==1 ,1] = 1\n",
        "Y1h[Y==-1,0] = 1"
      ],
      "execution_count": 0,
      "outputs": []
    },
    {
      "cell_type": "code",
      "metadata": {
        "id": "ussae-yyttIu",
        "colab_type": "code",
        "outputId": "6c83ff7a-103d-4e03-810f-01e01fcc27b9",
        "colab": {
          "base_uri": "https://localhost:8080/",
          "height": 104
        }
      },
      "source": [
        "Y1h"
      ],
      "execution_count": 0,
      "outputs": [
        {
          "output_type": "execute_result",
          "data": {
            "text/plain": [
              "array([[1., 0.],\n",
              "       [0., 1.],\n",
              "       [0., 1.],\n",
              "       [1., 0.],\n",
              "       [0., 1.]])"
            ]
          },
          "metadata": {
            "tags": []
          },
          "execution_count": 5
        }
      ]
    },
    {
      "cell_type": "markdown",
      "metadata": {
        "id": "CHMP4MCiz41H",
        "colab_type": "text"
      },
      "source": [
        "Our network has 3 inputs and 2 outputs. We have two outputs because there are two different classes!"
      ]
    },
    {
      "cell_type": "code",
      "metadata": {
        "id": "1d0klRK9mQ0N",
        "colab_type": "code",
        "colab": {}
      },
      "source": [
        "N_out = 2\n",
        "N_in = len(X[0])\n",
        "W = np.random.rand(N_out, N_in)"
      ],
      "execution_count": 0,
      "outputs": []
    },
    {
      "cell_type": "markdown",
      "metadata": {
        "id": "a5ndLV8inxK1",
        "colab_type": "text"
      },
      "source": [
        "**Modify activation function**. $\\sigma(a) = \\frac{1}{1+\\exp(-a)}$"
      ]
    },
    {
      "cell_type": "code",
      "metadata": {
        "id": "23cpltlNnNlh",
        "colab_type": "code",
        "colab": {}
      },
      "source": [
        "def sigmoid(a):\n",
        "    return 1./(1+np.exp(-a))\n",
        "\n",
        "hatY = sigmoid(X@W.T) #\"@\"\" is a short hand for np.dot (=matrix product)"
      ],
      "execution_count": 0,
      "outputs": []
    },
    {
      "cell_type": "code",
      "metadata": {
        "id": "wXxa69ZQyMiP",
        "colab_type": "code",
        "outputId": "4ded7724-d008-4b28-d577-bb19d50a133d",
        "colab": {
          "base_uri": "https://localhost:8080/",
          "height": 34
        }
      },
      "source": [
        "hatY.shape"
      ],
      "execution_count": 0,
      "outputs": [
        {
          "output_type": "execute_result",
          "data": {
            "text/plain": [
              "(5, 2)"
            ]
          },
          "metadata": {
            "tags": []
          },
          "execution_count": 8
        }
      ]
    },
    {
      "cell_type": "markdown",
      "metadata": {
        "id": "xJ_dPfmCoC8q",
        "colab_type": "text"
      },
      "source": [
        "**Change Cost function to MSE**"
      ]
    },
    {
      "cell_type": "code",
      "metadata": {
        "id": "T6Y_jrCX7rct",
        "colab_type": "code",
        "colab": {}
      },
      "source": [
        "def mse(y,t):\n",
        "    return np.mean((y-t)**2)"
      ],
      "execution_count": 0,
      "outputs": []
    },
    {
      "cell_type": "code",
      "metadata": {
        "id": "90gDnflPn_xn",
        "colab_type": "code",
        "outputId": "c8e7e9cd-26ee-4abf-ba8d-18f02fad343d",
        "colab": {
          "base_uri": "https://localhost:8080/",
          "height": 34
        }
      },
      "source": [
        "loss = mse(hatY,Y1h)\n",
        "loss"
      ],
      "execution_count": 0,
      "outputs": [
        {
          "output_type": "execute_result",
          "data": {
            "text/plain": [
              "0.27593992913892396"
            ]
          },
          "metadata": {
            "tags": []
          },
          "execution_count": 13
        }
      ]
    },
    {
      "cell_type": "markdown",
      "metadata": {
        "id": "KAN3TkxLpIuq",
        "colab_type": "text"
      },
      "source": [
        "Select one data sample at random. **Here we select even samples that are correctly classified**"
      ]
    },
    {
      "cell_type": "code",
      "metadata": {
        "id": "TcZWC-bAo3nl",
        "colab_type": "code",
        "colab": {}
      },
      "source": [
        "sample_index = np.random.randint(0,len(X))\n",
        "x = X[sample_index]\n",
        "y1h = Y1h[sample_index]"
      ],
      "execution_count": 0,
      "outputs": []
    },
    {
      "cell_type": "markdown",
      "metadata": {
        "id": "lAIFmW2vp6xb",
        "colab_type": "text"
      },
      "source": [
        "Let's make an update. We will use a learning rate equal to .1. ***Modify this rule to match the delta rule! You need $\\sigma'(a) = \\sigma(a)(1-\\sigma(a))$***"
      ]
    },
    {
      "cell_type": "code",
      "metadata": {
        "id": "HCLXRqZ9_Xds",
        "colab_type": "code",
        "outputId": "f9f501c7-fc2e-4a9d-8477-df06d9134870",
        "colab": {
          "base_uri": "https://localhost:8080/",
          "height": 34
        }
      },
      "source": [
        "#Your code here that computes DW\n",
        "A = X@W.T\n",
        "delta = ((hatY-Y1h)*(sigmoid(A)*(1-sigmoid(A))))\n",
        "DW = delta.T@X\n",
        "DW.shape"
      ],
      "execution_count": 0,
      "outputs": [
        {
          "output_type": "execute_result",
          "data": {
            "text/plain": [
              "(2, 3)"
            ]
          },
          "metadata": {
            "tags": []
          },
          "execution_count": 26
        }
      ]
    },
    {
      "cell_type": "code",
      "metadata": {
        "id": "6VSYZiZwwqYD",
        "colab_type": "code",
        "colab": {}
      },
      "source": [
        "W = W - DW"
      ],
      "execution_count": 0,
      "outputs": []
    },
    {
      "cell_type": "markdown",
      "metadata": {
        "id": "bJsjwIy1qk-8",
        "colab_type": "text"
      },
      "source": [
        "**Modify the following function accordingly, return the value of the cost instead of indices of misclassified samples**"
      ]
    },
    {
      "cell_type": "code",
      "metadata": {
        "id": "yI036jf2qoCE",
        "colab_type": "code",
        "colab": {}
      },
      "source": [
        "def train(X,Y1h,W):\n",
        "    A = X@W.T\n",
        "    delta = ((hatY-Y1h)*(sigmoid(A)*(1-sigmoid(A))))\n",
        "    DW = delta.T@X\n",
        "    W -= DW\n",
        "    return mse(sigmoid(X@W.T),Y1h)\n",
        "\n"
      ],
      "execution_count": 0,
      "outputs": []
    },
    {
      "cell_type": "code",
      "metadata": {
        "id": "ZPcWjG2SrCdC",
        "colab_type": "code",
        "outputId": "32243d8f-171a-43fe-b118-807a9bacd2f0",
        "colab": {
          "base_uri": "https://localhost:8080/",
          "height": 104
        }
      },
      "source": [
        "for n in range(100):\n",
        "    cost = train(X,Y1h,W)\n",
        "    if (n%20)==0: print(cost)"
      ],
      "execution_count": 0,
      "outputs": [
        {
          "output_type": "stream",
          "text": [
            "0.28005197746446475\n",
            "0.05796398040761652\n",
            "0.014071330653444708\n",
            "0.0056403996665860155\n",
            "0.002956164466124707\n"
          ],
          "name": "stdout"
        }
      ]
    },
    {
      "cell_type": "code",
      "metadata": {
        "id": "an1ANvXx9tPc",
        "colab_type": "code",
        "outputId": "8a9cf9e2-20ae-4df2-a40f-e5d6d41ae564",
        "colab": {
          "base_uri": "https://localhost:8080/",
          "height": 191
        }
      },
      "source": [
        "A = X@W.T\n",
        "hatY1h = sigmoid(A)\n",
        "print(hatY1h);print(Y1h)"
      ],
      "execution_count": 0,
      "outputs": [
        {
          "output_type": "stream",
          "text": [
            "[[0.94278134 0.03689423]\n",
            " [0.03621967 0.92922971]\n",
            " [0.02060054 0.94315678]\n",
            " [0.94400294 0.02540901]\n",
            " [0.00448166 0.99450043]]\n",
            "[[1. 0.]\n",
            " [0. 1.]\n",
            " [0. 1.]\n",
            " [1. 0.]\n",
            " [0. 1.]]\n"
          ],
          "name": "stdout"
        }
      ]
    },
    {
      "cell_type": "code",
      "metadata": {
        "id": "nmmMEFs0yJAe",
        "colab_type": "code",
        "colab": {}
      },
      "source": [
        ""
      ],
      "execution_count": 0,
      "outputs": []
    }
  ]
}