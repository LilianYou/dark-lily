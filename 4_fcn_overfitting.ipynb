{
  "nbformat": 4,
  "nbformat_minor": 0,
  "metadata": {
    "colab": {
      "name": "4_fcn_overfitting.ipynb",
      "provenance": [],
      "include_colab_link": true
    },
    "kernelspec": {
      "name": "python3",
      "display_name": "Python 3"
    },
    "accelerator": "GPU"
  },
  "cells": [
    {
      "cell_type": "markdown",
      "metadata": {
        "id": "view-in-github",
        "colab_type": "text"
      },
      "source": [
        "<a href=\"https://colab.research.google.com/github/LilianYou/dark-lily/blob/master/4_fcn_overfitting.ipynb\" target=\"_parent\"><img src=\"https://colab.research.google.com/assets/colab-badge.svg\" alt=\"Open In Colab\"/></a>"
      ]
    },
    {
      "cell_type": "markdown",
      "metadata": {
        "id": "w0RJaVus6Tm6",
        "colab_type": "text"
      },
      "source": [
        "# PSYCH 239: Week 2: Fully Connected Neural Network for Visual Classification\n"
      ]
    },
    {
      "cell_type": "code",
      "metadata": {
        "id": "mTY3javQ6OBE",
        "colab_type": "code",
        "colab": {}
      },
      "source": [
        "import torch\n",
        "from torchvision import datasets, transforms"
      ],
      "execution_count": 0,
      "outputs": []
    },
    {
      "cell_type": "code",
      "metadata": {
        "id": "DSVc6ghGIVhe",
        "colab_type": "code",
        "colab": {}
      },
      "source": [
        "class toOneHot(object):\n",
        "    def __init__(self, num_classes):\n",
        "        self.num_classes = num_classes\n",
        "\n",
        "    def __call__(self, integer):\n",
        "        y_onehot = torch.zeros(self.num_classes)\n",
        "        y_onehot[integer]=1\n",
        "        return y_onehot"
      ],
      "execution_count": 0,
      "outputs": []
    },
    {
      "cell_type": "code",
      "metadata": {
        "id": "MR0CDNidvI4p",
        "colab_type": "code",
        "colab": {}
      },
      "source": [
        "train_set = datasets.MNIST('./data',\n",
        "                           train=True, download=True,\n",
        "                           transform=transforms.Compose([\n",
        "                             transforms.ToTensor(),\n",
        "                             transforms.Normalize((0.1307,), (0.3081,))\n",
        "                             ]),\n",
        "                           target_transform = toOneHot(num_classes = 10),)\n",
        "train_loader = torch.utils.data.DataLoader(train_set, batch_size=100, shuffle=True)"
      ],
      "execution_count": 0,
      "outputs": []
    },
    {
      "cell_type": "code",
      "metadata": {
        "colab_type": "code",
        "id": "ct9zhvY-28a2",
        "colab": {}
      },
      "source": [
        "test_set = datasets.MNIST('./data',\n",
        "                           train=False, download=True,\n",
        "                           transform=transforms.Compose([\n",
        "                             transforms.ToTensor(),\n",
        "                             transforms.Normalize((0.1307,), (0.3081,))\n",
        "                             ]),\n",
        "                           target_transform = toOneHot(num_classes = 10),)\n",
        "test_loader = torch.utils.data.DataLoader(test_set, batch_size=100, shuffle=True)"
      ],
      "execution_count": 0,
      "outputs": []
    },
    {
      "cell_type": "code",
      "metadata": {
        "id": "DCocuAEn3RzR",
        "colab_type": "code",
        "colab": {}
      },
      "source": [
        "net_cuda = torch.nn.Sequential(torch.nn.Linear(784, 300),\n",
        "                                  torch.nn.ReLU(), #this is an activation function\n",
        "                                  torch.nn.Linear(300, 300),\n",
        "                                  torch.nn.ReLU(), #this is an activation function\n",
        "                                  torch.nn.Linear(300, 10),\n",
        "                                  torch.nn.ReLU(),\n",
        "                               ).cuda()"
      ],
      "execution_count": 0,
      "outputs": []
    },
    {
      "cell_type": "code",
      "metadata": {
        "id": "_o5OhB0-3DCT",
        "colab_type": "code",
        "colab": {}
      },
      "source": [
        "mse_loss = torch.nn.MSELoss()\n",
        "opt = torch.optim.Adam(net_cuda.parameters(), lr=1e-3, weight_decay=1e-3)"
      ],
      "execution_count": 0,
      "outputs": []
    },
    {
      "cell_type": "code",
      "metadata": {
        "id": "SN8gvPwB3ii0",
        "colab_type": "code",
        "colab": {}
      },
      "source": [
        "def train_step(x, t, net, opt_fn, loss_fn):\n",
        "    t_cuda = t.cuda()\n",
        "    y_cuda = net(x.cuda())\n",
        "    loss_cuda = loss_fn(y_cuda, t_cuda)\n",
        "    loss_cuda.backward()\n",
        "    opt_fn.step()\n",
        "    opt_fn.zero_grad()\n",
        "    return loss_cuda.cpu()"
      ],
      "execution_count": 0,
      "outputs": []
    },
    {
      "cell_type": "code",
      "metadata": {
        "id": "Z-H403Yx3pyc",
        "colab_type": "code",
        "outputId": "912b3450-16fd-4a1d-8a27-c5bb88f8011a",
        "colab": {
          "base_uri": "https://localhost:8080/",
          "height": 34
        }
      },
      "source": [
        "x,t = next(iter(train_loader))\n",
        "train_step(x.view(-1,784), t, net_cuda, opt, mse_loss)"
      ],
      "execution_count": 0,
      "outputs": [
        {
          "output_type": "execute_result",
          "data": {
            "text/plain": [
              "tensor(0.0950, grad_fn=<CopyBackwards>)"
            ]
          },
          "metadata": {
            "tags": []
          },
          "execution_count": 21
        }
      ]
    },
    {
      "cell_type": "markdown",
      "metadata": {
        "id": "9sv16pTbKiCs",
        "colab_type": "text"
      },
      "source": [
        "Make prediction"
      ]
    },
    {
      "cell_type": "code",
      "metadata": {
        "id": "MZ9MzbPqKgt4",
        "colab_type": "code",
        "colab": {}
      },
      "source": [
        "for x,t in iter(test_loader):   \n",
        "    y = net_cuda(x.view(-1,784).cuda()).cpu()"
      ],
      "execution_count": 0,
      "outputs": []
    },
    {
      "cell_type": "code",
      "metadata": {
        "id": "H84JC0YiKsrQ",
        "colab_type": "code",
        "outputId": "ea950888-120d-4f45-b956-5dcc9b1196d7",
        "colab": {
          "base_uri": "https://localhost:8080/",
          "height": 104
        }
      },
      "source": [
        "y.argmax(1)"
      ],
      "execution_count": 0,
      "outputs": [
        {
          "output_type": "execute_result",
          "data": {
            "text/plain": [
              "tensor([3, 3, 5, 3, 8, 6, 5, 3, 9, 3, 6, 5, 3, 3, 3, 5, 9, 8, 9, 5, 3, 3, 1, 6,\n",
              "        0, 0, 3, 9, 0, 7, 5, 5, 3, 3, 9, 9, 5, 3, 5, 9, 3, 9, 6, 3, 6, 5, 3, 9,\n",
              "        5, 3, 1, 3, 5, 3, 6, 1, 5, 5, 3, 1, 9, 0, 5, 3, 3, 3, 3, 6, 1, 6, 1, 9,\n",
              "        3, 9, 3, 6, 3, 6, 9, 3, 3, 5, 9, 9, 5, 3, 3, 1, 3, 9, 9, 5, 1, 5, 3, 1,\n",
              "        5, 5, 1, 6])"
            ]
          },
          "metadata": {
            "tags": []
          },
          "execution_count": 23
        }
      ]
    },
    {
      "cell_type": "markdown",
      "metadata": {
        "id": "6P2-QmXzLxMp",
        "colab_type": "text"
      },
      "source": [
        "Calculate accuracy"
      ]
    },
    {
      "cell_type": "code",
      "metadata": {
        "id": "ZTs5iXD9Kx_q",
        "colab_type": "code",
        "outputId": "d844922e-6000-4b30-b98b-cf35f254058f",
        "colab": {
          "base_uri": "https://localhost:8080/",
          "height": 34
        }
      },
      "source": [
        "torch.mean((t.argmax(1) == y.argmax(1)).float())"
      ],
      "execution_count": 0,
      "outputs": [
        {
          "output_type": "execute_result",
          "data": {
            "text/plain": [
              "tensor(0.3800)"
            ]
          },
          "metadata": {
            "tags": []
          },
          "execution_count": 24
        }
      ]
    },
    {
      "cell_type": "markdown",
      "metadata": {
        "id": "S6N3_zifemnt",
        "colab_type": "text"
      },
      "source": [
        ""
      ]
    },
    {
      "cell_type": "markdown",
      "metadata": {
        "id": "f2v9wxauLzM1",
        "colab_type": "text"
      },
      "source": [
        "Train the network over multiple epochs"
      ]
    },
    {
      "cell_type": "code",
      "metadata": {
        "id": "nEqGnWEfJcsP",
        "colab_type": "code",
        "outputId": "a4215c63-bbe9-48e7-85c7-00b1aaefdd5b",
        "colab": {
          "base_uri": "https://localhost:8080/",
          "height": 1000
        }
      },
      "source": [
        "acc_hist_train = []\n",
        "acc_hist_test = []\n",
        "SubsetRandomSampler = torch.utils.data.sampler.SubsetRandomSampler\n",
        "subset_loader = torch.utils.data.DataLoader(train_set, batch_size=100, sampler=SubsetRandomSampler(range(300)))\n",
        "\n",
        "for epoch in range(200):\n",
        "    acc_batch = []\n",
        "    net_cuda.train()\n",
        "    for x, t in iter(subset_loader):   \n",
        "        loss_ = train_step(x.view(-1,784), t, net_cuda, opt, mse_loss)\n",
        "        y = net_cuda(x.view(-1,784).cuda()).cpu()\n",
        "        acc_batch.append(torch.mean((t.argmax(1) == y.argmax(1)).float()))\n",
        "    acc_hist_train.append(torch.mean(torch.FloatTensor(acc_batch)))   \n",
        "    print(loss_)\n",
        "\n",
        "    net_cuda.eval()\n",
        "    acc_batch = []\n",
        "    for x,t in iter(test_loader):   \n",
        "        y = net_cuda(x.view(-1,784).cuda()).cpu()\n",
        "        acc_batch.append(torch.mean((t.argmax(1) == y.argmax(1)).float()))\n",
        "    acc_hist_test.append(torch.mean(torch.FloatTensor(acc_batch))) \n",
        "    "
      ],
      "execution_count": 0,
      "outputs": [
        {
          "output_type": "stream",
          "text": [
            "tensor(0.0576, grad_fn=<CopyBackwards>)\n",
            "tensor(0.0318, grad_fn=<CopyBackwards>)\n",
            "tensor(0.0254, grad_fn=<CopyBackwards>)\n",
            "tensor(0.0174, grad_fn=<CopyBackwards>)\n",
            "tensor(0.0143, grad_fn=<CopyBackwards>)\n",
            "tensor(0.0114, grad_fn=<CopyBackwards>)\n",
            "tensor(0.0071, grad_fn=<CopyBackwards>)\n",
            "tensor(0.0047, grad_fn=<CopyBackwards>)\n",
            "tensor(0.0052, grad_fn=<CopyBackwards>)\n",
            "tensor(0.0062, grad_fn=<CopyBackwards>)\n",
            "tensor(0.0037, grad_fn=<CopyBackwards>)\n",
            "tensor(0.0044, grad_fn=<CopyBackwards>)\n",
            "tensor(0.0019, grad_fn=<CopyBackwards>)\n",
            "tensor(0.0008, grad_fn=<CopyBackwards>)\n",
            "tensor(0.0037, grad_fn=<CopyBackwards>)\n",
            "tensor(0.0018, grad_fn=<CopyBackwards>)\n",
            "tensor(0.0026, grad_fn=<CopyBackwards>)\n",
            "tensor(0.0005, grad_fn=<CopyBackwards>)\n",
            "tensor(0.0016, grad_fn=<CopyBackwards>)\n",
            "tensor(0.0024, grad_fn=<CopyBackwards>)\n",
            "tensor(0.0015, grad_fn=<CopyBackwards>)\n",
            "tensor(0.0024, grad_fn=<CopyBackwards>)\n",
            "tensor(0.0024, grad_fn=<CopyBackwards>)\n",
            "tensor(0.0014, grad_fn=<CopyBackwards>)\n",
            "tensor(0.0025, grad_fn=<CopyBackwards>)\n",
            "tensor(0.0036, grad_fn=<CopyBackwards>)\n",
            "tensor(0.0035, grad_fn=<CopyBackwards>)\n",
            "tensor(0.0035, grad_fn=<CopyBackwards>)\n",
            "tensor(0.0016, grad_fn=<CopyBackwards>)\n",
            "tensor(0.0024, grad_fn=<CopyBackwards>)\n",
            "tensor(0.0045, grad_fn=<CopyBackwards>)\n",
            "tensor(0.0004, grad_fn=<CopyBackwards>)\n",
            "tensor(0.0014, grad_fn=<CopyBackwards>)\n",
            "tensor(0.0024, grad_fn=<CopyBackwards>)\n",
            "tensor(0.0003, grad_fn=<CopyBackwards>)\n",
            "tensor(0.0015, grad_fn=<CopyBackwards>)\n",
            "tensor(0.0024, grad_fn=<CopyBackwards>)\n",
            "tensor(0.0014, grad_fn=<CopyBackwards>)\n",
            "tensor(0.0035, grad_fn=<CopyBackwards>)\n",
            "tensor(0.0015, grad_fn=<CopyBackwards>)\n",
            "tensor(0.0005, grad_fn=<CopyBackwards>)\n",
            "tensor(0.0014, grad_fn=<CopyBackwards>)\n",
            "tensor(0.0015, grad_fn=<CopyBackwards>)\n",
            "tensor(0.0035, grad_fn=<CopyBackwards>)\n",
            "tensor(0.0036, grad_fn=<CopyBackwards>)\n",
            "tensor(0.0026, grad_fn=<CopyBackwards>)\n",
            "tensor(0.0014, grad_fn=<CopyBackwards>)\n",
            "tensor(0.0045, grad_fn=<CopyBackwards>)\n",
            "tensor(0.0004, grad_fn=<CopyBackwards>)\n",
            "tensor(0.0025, grad_fn=<CopyBackwards>)\n",
            "tensor(0.0027, grad_fn=<CopyBackwards>)\n",
            "tensor(0.0024, grad_fn=<CopyBackwards>)\n",
            "tensor(0.0014, grad_fn=<CopyBackwards>)\n",
            "tensor(0.0024, grad_fn=<CopyBackwards>)\n",
            "tensor(0.0044, grad_fn=<CopyBackwards>)\n",
            "tensor(0.0024, grad_fn=<CopyBackwards>)\n",
            "tensor(0.0035, grad_fn=<CopyBackwards>)\n",
            "tensor(0.0029, grad_fn=<CopyBackwards>)\n",
            "tensor(0.0007, grad_fn=<CopyBackwards>)\n",
            "tensor(0.0026, grad_fn=<CopyBackwards>)\n",
            "tensor(0.0016, grad_fn=<CopyBackwards>)\n",
            "tensor(0.0036, grad_fn=<CopyBackwards>)\n",
            "tensor(0.0005, grad_fn=<CopyBackwards>)\n",
            "tensor(0.0024, grad_fn=<CopyBackwards>)\n",
            "tensor(0.0038, grad_fn=<CopyBackwards>)\n",
            "tensor(0.0025, grad_fn=<CopyBackwards>)\n",
            "tensor(0.0027, grad_fn=<CopyBackwards>)\n",
            "tensor(0.0016, grad_fn=<CopyBackwards>)\n",
            "tensor(0.0017, grad_fn=<CopyBackwards>)\n",
            "tensor(0.0016, grad_fn=<CopyBackwards>)\n",
            "tensor(0.0015, grad_fn=<CopyBackwards>)\n",
            "tensor(0.0026, grad_fn=<CopyBackwards>)\n",
            "tensor(0.0033, grad_fn=<CopyBackwards>)\n",
            "tensor(0.0025, grad_fn=<CopyBackwards>)\n",
            "tensor(0.0043, grad_fn=<CopyBackwards>)\n",
            "tensor(0.0015, grad_fn=<CopyBackwards>)\n",
            "tensor(0.0037, grad_fn=<CopyBackwards>)\n",
            "tensor(0.0017, grad_fn=<CopyBackwards>)\n",
            "tensor(0.0026, grad_fn=<CopyBackwards>)\n",
            "tensor(0.0020, grad_fn=<CopyBackwards>)\n",
            "tensor(0.0017, grad_fn=<CopyBackwards>)\n",
            "tensor(0.0026, grad_fn=<CopyBackwards>)\n",
            "tensor(0.0006, grad_fn=<CopyBackwards>)\n",
            "tensor(0.0016, grad_fn=<CopyBackwards>)\n",
            "tensor(0.0006, grad_fn=<CopyBackwards>)\n",
            "tensor(0.0025, grad_fn=<CopyBackwards>)\n",
            "tensor(0.0007, grad_fn=<CopyBackwards>)\n",
            "tensor(0.0034, grad_fn=<CopyBackwards>)\n",
            "tensor(0.0041, grad_fn=<CopyBackwards>)\n",
            "tensor(0.0017, grad_fn=<CopyBackwards>)\n",
            "tensor(0.0019, grad_fn=<CopyBackwards>)\n",
            "tensor(0.0015, grad_fn=<CopyBackwards>)\n",
            "tensor(0.0015, grad_fn=<CopyBackwards>)\n",
            "tensor(0.0008, grad_fn=<CopyBackwards>)\n",
            "tensor(0.0005, grad_fn=<CopyBackwards>)\n",
            "tensor(0.0008, grad_fn=<CopyBackwards>)\n",
            "tensor(0.0019, grad_fn=<CopyBackwards>)\n",
            "tensor(0.0019, grad_fn=<CopyBackwards>)\n",
            "tensor(0.0016, grad_fn=<CopyBackwards>)\n",
            "tensor(0.0006, grad_fn=<CopyBackwards>)\n",
            "tensor(0.0026, grad_fn=<CopyBackwards>)\n",
            "tensor(0.0011, grad_fn=<CopyBackwards>)\n",
            "tensor(0.0015, grad_fn=<CopyBackwards>)\n",
            "tensor(0.0006, grad_fn=<CopyBackwards>)\n",
            "tensor(0.0028, grad_fn=<CopyBackwards>)\n",
            "tensor(0.0015, grad_fn=<CopyBackwards>)\n",
            "tensor(0.0005, grad_fn=<CopyBackwards>)\n",
            "tensor(0.0005, grad_fn=<CopyBackwards>)\n",
            "tensor(0.0014, grad_fn=<CopyBackwards>)\n",
            "tensor(0.0015, grad_fn=<CopyBackwards>)\n",
            "tensor(0.0015, grad_fn=<CopyBackwards>)\n",
            "tensor(0.0025, grad_fn=<CopyBackwards>)\n",
            "tensor(0.0025, grad_fn=<CopyBackwards>)\n",
            "tensor(0.0015, grad_fn=<CopyBackwards>)\n",
            "tensor(0.0006, grad_fn=<CopyBackwards>)\n",
            "tensor(0.0016, grad_fn=<CopyBackwards>)\n",
            "tensor(0.0018, grad_fn=<CopyBackwards>)\n",
            "tensor(0.0017, grad_fn=<CopyBackwards>)\n",
            "tensor(0.0016, grad_fn=<CopyBackwards>)\n",
            "tensor(0.0005, grad_fn=<CopyBackwards>)\n",
            "tensor(0.0005, grad_fn=<CopyBackwards>)\n",
            "tensor(0.0014, grad_fn=<CopyBackwards>)\n",
            "tensor(0.0016, grad_fn=<CopyBackwards>)\n",
            "tensor(0.0026, grad_fn=<CopyBackwards>)\n",
            "tensor(0.0028, grad_fn=<CopyBackwards>)\n",
            "tensor(0.0006, grad_fn=<CopyBackwards>)\n",
            "tensor(0.0005, grad_fn=<CopyBackwards>)\n",
            "tensor(0.0024, grad_fn=<CopyBackwards>)\n",
            "tensor(0.0015, grad_fn=<CopyBackwards>)\n",
            "tensor(0.0013, grad_fn=<CopyBackwards>)\n",
            "tensor(0.0005, grad_fn=<CopyBackwards>)\n",
            "tensor(0.0017, grad_fn=<CopyBackwards>)\n",
            "tensor(0.0030, grad_fn=<CopyBackwards>)\n",
            "tensor(0.0020, grad_fn=<CopyBackwards>)\n",
            "tensor(0.0028, grad_fn=<CopyBackwards>)\n",
            "tensor(0.0007, grad_fn=<CopyBackwards>)\n",
            "tensor(0.0028, grad_fn=<CopyBackwards>)\n",
            "tensor(0.0029, grad_fn=<CopyBackwards>)\n",
            "tensor(0.0019, grad_fn=<CopyBackwards>)\n",
            "tensor(0.0005, grad_fn=<CopyBackwards>)\n",
            "tensor(0.0013, grad_fn=<CopyBackwards>)\n",
            "tensor(0.0012, grad_fn=<CopyBackwards>)\n",
            "tensor(0.0019, grad_fn=<CopyBackwards>)\n",
            "tensor(0.0011, grad_fn=<CopyBackwards>)\n",
            "tensor(0.0029, grad_fn=<CopyBackwards>)\n",
            "tensor(0.0022, grad_fn=<CopyBackwards>)\n",
            "tensor(0.0008, grad_fn=<CopyBackwards>)\n",
            "tensor(0.0005, grad_fn=<CopyBackwards>)\n",
            "tensor(0.0003, grad_fn=<CopyBackwards>)\n",
            "tensor(0.0007, grad_fn=<CopyBackwards>)\n",
            "tensor(0.0027, grad_fn=<CopyBackwards>)\n",
            "tensor(0.0015, grad_fn=<CopyBackwards>)\n",
            "tensor(0.0027, grad_fn=<CopyBackwards>)\n",
            "tensor(0.0004, grad_fn=<CopyBackwards>)\n",
            "tensor(0.0015, grad_fn=<CopyBackwards>)\n",
            "tensor(0.0004, grad_fn=<CopyBackwards>)\n",
            "tensor(0.0004, grad_fn=<CopyBackwards>)\n",
            "tensor(0.0015, grad_fn=<CopyBackwards>)\n",
            "tensor(0.0005, grad_fn=<CopyBackwards>)\n",
            "tensor(0.0005, grad_fn=<CopyBackwards>)\n",
            "tensor(0.0016, grad_fn=<CopyBackwards>)\n",
            "tensor(0.0006, grad_fn=<CopyBackwards>)\n",
            "tensor(0.0014, grad_fn=<CopyBackwards>)\n",
            "tensor(0.0004, grad_fn=<CopyBackwards>)\n",
            "tensor(0.0004, grad_fn=<CopyBackwards>)\n",
            "tensor(0.0005, grad_fn=<CopyBackwards>)\n",
            "tensor(0.0004, grad_fn=<CopyBackwards>)\n",
            "tensor(0.0008, grad_fn=<CopyBackwards>)\n",
            "tensor(0.0014, grad_fn=<CopyBackwards>)\n",
            "tensor(0.0006, grad_fn=<CopyBackwards>)\n",
            "tensor(0.0004, grad_fn=<CopyBackwards>)\n",
            "tensor(0.0005, grad_fn=<CopyBackwards>)\n",
            "tensor(0.0025, grad_fn=<CopyBackwards>)\n",
            "tensor(0.0003, grad_fn=<CopyBackwards>)\n",
            "tensor(0.0003, grad_fn=<CopyBackwards>)\n",
            "tensor(0.0013, grad_fn=<CopyBackwards>)\n",
            "tensor(0.0014, grad_fn=<CopyBackwards>)\n",
            "tensor(0.0006, grad_fn=<CopyBackwards>)\n",
            "tensor(0.0005, grad_fn=<CopyBackwards>)\n",
            "tensor(0.0008, grad_fn=<CopyBackwards>)\n",
            "tensor(0.0017, grad_fn=<CopyBackwards>)\n",
            "tensor(0.0005, grad_fn=<CopyBackwards>)\n",
            "tensor(0.0006, grad_fn=<CopyBackwards>)\n",
            "tensor(0.0005, grad_fn=<CopyBackwards>)\n",
            "tensor(0.0014, grad_fn=<CopyBackwards>)\n",
            "tensor(0.0004, grad_fn=<CopyBackwards>)\n",
            "tensor(0.0004, grad_fn=<CopyBackwards>)\n",
            "tensor(0.0006, grad_fn=<CopyBackwards>)\n",
            "tensor(0.0005, grad_fn=<CopyBackwards>)\n",
            "tensor(0.0017, grad_fn=<CopyBackwards>)\n",
            "tensor(0.0008, grad_fn=<CopyBackwards>)\n",
            "tensor(0.0021, grad_fn=<CopyBackwards>)\n",
            "tensor(0.0022, grad_fn=<CopyBackwards>)\n",
            "tensor(0.0008, grad_fn=<CopyBackwards>)\n",
            "tensor(0.0006, grad_fn=<CopyBackwards>)\n",
            "tensor(0.0018, grad_fn=<CopyBackwards>)\n",
            "tensor(0.0016, grad_fn=<CopyBackwards>)\n",
            "tensor(0.0005, grad_fn=<CopyBackwards>)\n",
            "tensor(0.0014, grad_fn=<CopyBackwards>)\n",
            "tensor(0.0006, grad_fn=<CopyBackwards>)\n"
          ],
          "name": "stdout"
        }
      ]
    },
    {
      "cell_type": "code",
      "metadata": {
        "id": "SZ26wsHMYsHb",
        "colab_type": "code",
        "outputId": "a9346d39-04cc-443a-9e8a-1590003c4242",
        "colab": {
          "base_uri": "https://localhost:8080/",
          "height": 282
        }
      },
      "source": [
        "import pylab\n",
        "pylab.plot(acc_hist_test)"
      ],
      "execution_count": 0,
      "outputs": [
        {
          "output_type": "execute_result",
          "data": {
            "text/plain": [
              "[<matplotlib.lines.Line2D at 0x7fd4ada77da0>]"
            ]
          },
          "metadata": {
            "tags": []
          },
          "execution_count": 26
        },
        {
          "output_type": "display_data",
          "data": {
            "image/png": "[encoded data removed]",
            "text/plain": [
              "<Figure size 432x288 with 1 Axes>"
            ]
          },
          "metadata": {
            "tags": []
          }
        }
      ]
    },
    {
      "cell_type": "code",
      "metadata": {
        "id": "G4UNQW1ZeoBN",
        "colab_type": "code",
        "colab": {}
      },
      "source": [
        ""
      ],
      "execution_count": 0,
      "outputs": []
    }
  ]
}