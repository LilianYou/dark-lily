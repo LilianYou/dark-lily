{
  "nbformat": 4,
  "nbformat_minor": 0,
  "metadata": {
    "colab": {
      "name": "4_fcn_anatomy.ipynb",
      "provenance": [],
      "include_colab_link": true
    },
    "kernelspec": {
      "name": "python3",
      "display_name": "Python 3"
    },
    "accelerator": "GPU"
  },
  "cells": [
    {
      "cell_type": "markdown",
      "metadata": {
        "id": "view-in-github",
        "colab_type": "text"
      },
      "source": [
        "<a href=\"https://colab.research.google.com/github/LilianYou/dark-lily/blob/master/4_fcn_anatomy.ipynb\" target=\"_parent\"><img src=\"https://colab.research.google.com/assets/colab-badge.svg\" alt=\"Open In Colab\"/></a>"
      ]
    },
    {
      "cell_type": "markdown",
      "metadata": {
        "id": "w0RJaVus6Tm6",
        "colab_type": "text"
      },
      "source": [
        "# PSYCH 239: Week 2: Fully Connected Neural Network for Visual Classification\n"
      ]
    },
    {
      "cell_type": "code",
      "metadata": {
        "id": "mTY3javQ6OBE",
        "colab_type": "code",
        "colab": {}
      },
      "source": [
        "import torch\n",
        "from torchvision import datasets, transforms\n",
        "from pylab import *"
      ],
      "execution_count": 0,
      "outputs": []
    },
    {
      "cell_type": "code",
      "metadata": {
        "id": "DSVc6ghGIVhe",
        "colab_type": "code",
        "colab": {}
      },
      "source": [
        "class toOneHot(object):\n",
        "    def __init__(self, num_classes):\n",
        "        self.num_classes = num_classes\n",
        "\n",
        "    def __call__(self, integer):\n",
        "        y_onehot = torch.zeros(self.num_classes)\n",
        "        y_onehot[integer]=1\n",
        "        return y_onehot"
      ],
      "execution_count": 0,
      "outputs": []
    },
    {
      "cell_type": "code",
      "metadata": {
        "id": "MR0CDNidvI4p",
        "colab_type": "code",
        "outputId": "81386c4d-e384-4772-c018-5af5f67e0be0",
        "colab": {
          "base_uri": "https://localhost:8080/",
          "height": 280
        }
      },
      "source": [
        "train_set = datasets.MNIST('./data',\n",
        "                           train=True, download=True,\n",
        "                           transform=transforms.Compose([\n",
        "                             transforms.ToTensor(),\n",
        "                             transforms.Normalize((0.1307,), (0.3081,))\n",
        "                             ]),\n",
        "                           target_transform = toOneHot(num_classes = 10),)\n",
        "train_loader = torch.utils.data.DataLoader(train_set, batch_size=100, shuffle=True)"
      ],
      "execution_count": 0,
      "outputs": [
        {
          "output_type": "stream",
          "text": [
            "\r0it [00:00, ?it/s]"
          ],
          "name": "stderr"
        },
        {
          "output_type": "stream",
          "text": [
            "Downloading http://yann.lecun.com/exdb/mnist/train-images-idx3-ubyte.gz to ./data/MNIST/raw/train-images-idx3-ubyte.gz\n"
          ],
          "name": "stdout"
        },
        {
          "output_type": "stream",
          "text": [
            "9920512it [00:01, 9619981.61it/s]                            \n"
          ],
          "name": "stderr"
        },
        {
          "output_type": "stream",
          "text": [
            "Extracting ./data/MNIST/raw/train-images-idx3-ubyte.gz to ./data/MNIST/raw\n"
          ],
          "name": "stdout"
        },
        {
          "output_type": "stream",
          "text": [
            "  0%|          | 0/28881 [00:00<?, ?it/s]"
          ],
          "name": "stderr"
        },
        {
          "output_type": "stream",
          "text": [
            "Downloading http://yann.lecun.com/exdb/mnist/train-labels-idx1-ubyte.gz to ./data/MNIST/raw/train-labels-idx1-ubyte.gz\n"
          ],
          "name": "stdout"
        },
        {
          "output_type": "stream",
          "text": [
            "32768it [00:00, 137547.07it/s]           \n",
            "  0%|          | 0/1648877 [00:00<?, ?it/s]"
          ],
          "name": "stderr"
        },
        {
          "output_type": "stream",
          "text": [
            "Extracting ./data/MNIST/raw/train-labels-idx1-ubyte.gz to ./data/MNIST/raw\n",
            "Downloading http://yann.lecun.com/exdb/mnist/t10k-images-idx3-ubyte.gz to ./data/MNIST/raw/t10k-images-idx3-ubyte.gz\n"
          ],
          "name": "stdout"
        },
        {
          "output_type": "stream",
          "text": [
            "1654784it [00:00, 2255428.07it/s]                            \n",
            "0it [00:00, ?it/s]"
          ],
          "name": "stderr"
        },
        {
          "output_type": "stream",
          "text": [
            "Extracting ./data/MNIST/raw/t10k-images-idx3-ubyte.gz to ./data/MNIST/raw\n",
            "Downloading http://yann.lecun.com/exdb/mnist/t10k-labels-idx1-ubyte.gz to ./data/MNIST/raw/t10k-labels-idx1-ubyte.gz\n"
          ],
          "name": "stdout"
        },
        {
          "output_type": "stream",
          "text": [
            "8192it [00:00, 53870.59it/s]            \n"
          ],
          "name": "stderr"
        },
        {
          "output_type": "stream",
          "text": [
            "Extracting ./data/MNIST/raw/t10k-labels-idx1-ubyte.gz to ./data/MNIST/raw\n",
            "Processing...\n",
            "Done!\n"
          ],
          "name": "stdout"
        }
      ]
    },
    {
      "cell_type": "code",
      "metadata": {
        "colab_type": "code",
        "id": "ct9zhvY-28a2",
        "colab": {}
      },
      "source": [
        "test_set = datasets.MNIST('./data',\n",
        "                           train=False, download=True,\n",
        "                           transform=transforms.Compose([\n",
        "                             transforms.ToTensor(),\n",
        "                             transforms.Normalize((0.1307,), (0.3081,))\n",
        "                             ]),\n",
        "                           target_transform = toOneHot(num_classes = 10),)\n",
        "test_loader = torch.utils.data.DataLoader(test_set, batch_size=100, shuffle=False)"
      ],
      "execution_count": 0,
      "outputs": []
    },
    {
      "cell_type": "code",
      "metadata": {
        "id": "TWsag71QsCdc",
        "colab_type": "code",
        "colab": {}
      },
      "source": [
        "data, target = next(iter(test_loader))"
      ],
      "execution_count": 0,
      "outputs": []
    },
    {
      "cell_type": "code",
      "metadata": {
        "id": "Qd8UvnDfsS-F",
        "colab_type": "code",
        "outputId": "15734822-cb57-40db-9161-e02c431443ac",
        "colab": {
          "base_uri": "https://localhost:8080/",
          "height": 282
        }
      },
      "source": [
        "imshow(data[1][0])\n",
        "torch.argmax(target[1])"
      ],
      "execution_count": 0,
      "outputs": [
        {
          "output_type": "execute_result",
          "data": {
            "text/plain": [
              "tensor(2)"
            ]
          },
          "metadata": {
            "tags": []
          },
          "execution_count": 18
        },
        {
          "output_type": "display_data",
          "data": {
            "image/png": "[encoded data removed]",
            "text/plain": [
              "<Figure size 432x288 with 1 Axes>"
            ]
          },
          "metadata": {
            "tags": []
          }
        }
      ]
    },
    {
      "cell_type": "code",
      "metadata": {
        "id": "DCocuAEn3RzR",
        "colab_type": "code",
        "colab": {}
      },
      "source": [
        "net = torch.nn.Sequential(torch.nn.Linear(784, 100),\n",
        "                                  torch.nn.Sigmoid(), #this is an activation function\n",
        "                                  torch.nn.Linear(100, 10),\n",
        "                                  torch.nn.Sigmoid())"
      ],
      "execution_count": 0,
      "outputs": []
    },
    {
      "cell_type": "code",
      "metadata": {
        "id": "_o5OhB0-3DCT",
        "colab_type": "code",
        "colab": {}
      },
      "source": [
        "mse_loss = torch.nn.MSELoss()\n",
        "opt = torch.optim.Adam(net.parameters(), lr=1e-3)"
      ],
      "execution_count": 0,
      "outputs": []
    },
    {
      "cell_type": "code",
      "metadata": {
        "id": "SN8gvPwB3ii0",
        "colab_type": "code",
        "colab": {}
      },
      "source": [
        "def train_step(x, t, net, opt_fn, loss_fn):\n",
        "    y = net(x)\n",
        "    loss = loss_fn(y, t)\n",
        "    loss.backward()\n",
        "    opt_fn.step()\n",
        "    opt_fn.zero_grad()\n",
        "    return loss"
      ],
      "execution_count": 0,
      "outputs": []
    },
    {
      "cell_type": "code",
      "metadata": {
        "id": "Z-H403Yx3pyc",
        "colab_type": "code",
        "outputId": "f0ecb4e6-362f-4b7e-e8a2-2f1b9a286f7a",
        "colab": {
          "base_uri": "https://localhost:8080/",
          "height": 34
        }
      },
      "source": [
        "x,t = next(iter(train_loader))\n",
        "train_step(x.view(-1,784), t, net, opt, mse_loss)"
      ],
      "execution_count": 0,
      "outputs": [
        {
          "output_type": "execute_result",
          "data": {
            "text/plain": [
              "tensor(0.0949, grad_fn=<MseLossBackward>)"
            ]
          },
          "metadata": {
            "tags": []
          },
          "execution_count": 38
        }
      ]
    },
    {
      "cell_type": "markdown",
      "metadata": {
        "id": "9sv16pTbKiCs",
        "colab_type": "text"
      },
      "source": [
        "Make prediction"
      ]
    },
    {
      "cell_type": "code",
      "metadata": {
        "id": "MZ9MzbPqKgt4",
        "colab_type": "code",
        "colab": {}
      },
      "source": [
        "x,t = next(iter(test_loader))   \n",
        "y = net(x.view(-1,784))"
      ],
      "execution_count": 0,
      "outputs": []
    },
    {
      "cell_type": "code",
      "metadata": {
        "id": "rp1goWdjurie",
        "colab_type": "code",
        "outputId": "b525edab-e830-49c8-cfe6-865815c83eee",
        "colab": {
          "base_uri": "https://localhost:8080/",
          "height": 34
        }
      },
      "source": [
        "torch.argmax(y[1])"
      ],
      "execution_count": 0,
      "outputs": [
        {
          "output_type": "execute_result",
          "data": {
            "text/plain": [
              "tensor(0)"
            ]
          },
          "metadata": {
            "tags": []
          },
          "execution_count": 44
        }
      ]
    },
    {
      "cell_type": "code",
      "metadata": {
        "id": "w3eTMugWu78r",
        "colab_type": "code",
        "outputId": "1e07cc53-8bef-4adb-c393-c56d63b3d228",
        "colab": {
          "base_uri": "https://localhost:8080/",
          "height": 34
        }
      },
      "source": [
        "torch.argmax(t[1])"
      ],
      "execution_count": 0,
      "outputs": [
        {
          "output_type": "execute_result",
          "data": {
            "text/plain": [
              "tensor(2)"
            ]
          },
          "metadata": {
            "tags": []
          },
          "execution_count": 45
        }
      ]
    },
    {
      "cell_type": "code",
      "metadata": {
        "id": "H84JC0YiKsrQ",
        "colab_type": "code",
        "outputId": "a8ec236d-f313-4574-eae4-d5c1c6f79a40",
        "colab": {
          "base_uri": "https://localhost:8080/",
          "height": 104
        }
      },
      "source": [
        "y.argmax(1)"
      ],
      "execution_count": 0,
      "outputs": [
        {
          "output_type": "execute_result",
          "data": {
            "text/plain": [
              "tensor([7, 0, 1, 0, 0, 1, 0, 0, 0, 0, 0, 0, 0, 0, 1, 0, 0, 7, 0, 0, 0, 0, 0, 0,\n",
              "        0, 0, 7, 0, 0, 1, 3, 1, 3, 0, 0, 0, 7, 1, 0, 1, 1, 0, 7, 0, 3, 0, 3, 0,\n",
              "        0, 0, 0, 0, 0, 0, 0, 0, 0, 1, 0, 0, 7, 0, 0, 0, 0, 3, 0, 0, 3, 0, 7, 0,\n",
              "        0, 0, 1, 7, 3, 7, 0, 0, 0, 0, 0, 7, 0, 0, 7, 0, 0, 1, 0, 0, 0, 3, 1, 0,\n",
              "        3, 0, 0, 0])"
            ]
          },
          "metadata": {
            "tags": []
          },
          "execution_count": 46
        }
      ]
    },
    {
      "cell_type": "markdown",
      "metadata": {
        "id": "6P2-QmXzLxMp",
        "colab_type": "text"
      },
      "source": [
        "Calculate accuracy"
      ]
    },
    {
      "cell_type": "code",
      "metadata": {
        "id": "ZTs5iXD9Kx_q",
        "colab_type": "code",
        "colab": {}
      },
      "source": [
        "torch.mean((t.argmax(1) == y.argmax(1)).float())"
      ],
      "execution_count": 0,
      "outputs": []
    },
    {
      "cell_type": "markdown",
      "metadata": {
        "id": "f2v9wxauLzM1",
        "colab_type": "text"
      },
      "source": [
        "Train the network over multiple epochs"
      ]
    },
    {
      "cell_type": "code",
      "metadata": {
        "id": "nEqGnWEfJcsP",
        "colab_type": "code",
        "outputId": "115e9ddd-aed0-4afd-bc79-268508e37f27",
        "colab": {
          "base_uri": "https://localhost:8080/",
          "height": 191
        }
      },
      "source": [
        "acc_batch = []\n",
        "for epoch in range(5):\n",
        "    net.train() #training mode\n",
        "    for x,t in iter(train_loader):   \n",
        "        loss_ = train_step(x.view(-1,784), t, net, opt, mse_loss)\n",
        "\n",
        "    net.eval() #evaluation mode\n",
        "    for x,t in iter(test_loader):   \n",
        "        y = net(x.view(-1,784))\n",
        "        acc_batch.append(torch.mean((t.argmax(1) == y.argmax(1)).float()))\n",
        "    print(torch.mean(torch.FloatTensor(acc_batch)))\n",
        "    "
      ],
      "execution_count": 0,
      "outputs": [
        {
          "output_type": "stream",
          "text": [
            "tensor(0.0219, grad_fn=<MseLossBackward>)\n",
            "tensor(0.9184)\n",
            "tensor(0.0076, grad_fn=<MseLossBackward>)\n",
            "tensor(0.9265)\n",
            "tensor(0.0129, grad_fn=<MseLossBackward>)\n",
            "tensor(0.9327)\n",
            "tensor(0.0118, grad_fn=<MseLossBackward>)\n",
            "tensor(0.9376)\n",
            "tensor(0.0084, grad_fn=<MseLossBackward>)\n",
            "tensor(0.9411)\n"
          ],
          "name": "stdout"
        }
      ]
    },
    {
      "cell_type": "code",
      "metadata": {
        "id": "rggGIJMPvbjr",
        "colab_type": "code",
        "outputId": "15f383c9-1541-4635-8cad-d49b9e5437c0",
        "colab": {
          "base_uri": "https://localhost:8080/",
          "height": 69
        }
      },
      "source": [
        "y[0]"
      ],
      "execution_count": 0,
      "outputs": [
        {
          "output_type": "execute_result",
          "data": {
            "text/plain": [
              "tensor([1.8201e-03, 1.8449e-02, 8.1689e-03, 6.7291e-03, 8.4436e-03, 2.5069e-02,\n",
              "        1.0713e-02, 3.3063e-04, 9.7456e-01, 2.0896e-03],\n",
              "       grad_fn=<SelectBackward>)"
            ]
          },
          "metadata": {
            "tags": []
          },
          "execution_count": 51
        }
      ]
    },
    {
      "cell_type": "code",
      "metadata": {
        "id": "ADmMSUcjwNUM",
        "colab_type": "code",
        "outputId": "88f92d04-919a-450a-b046-4bc84ff9dbd1",
        "colab": {
          "base_uri": "https://localhost:8080/",
          "height": 34
        }
      },
      "source": [
        "t[0]"
      ],
      "execution_count": 0,
      "outputs": [
        {
          "output_type": "execute_result",
          "data": {
            "text/plain": [
              "tensor([0., 0., 0., 0., 0., 0., 0., 0., 1., 0.])"
            ]
          },
          "metadata": {
            "tags": []
          },
          "execution_count": 52
        }
      ]
    },
    {
      "cell_type": "code",
      "metadata": {
        "id": "LZ4AaoZiwWlo",
        "colab_type": "code",
        "colab": {}
      },
      "source": [
        ""
      ],
      "execution_count": 0,
      "outputs": []
    }
  ]
}