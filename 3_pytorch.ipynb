{
  "nbformat": 4,
  "nbformat_minor": 0,
  "metadata": {
    "colab": {
      "name": "3_pytorch.ipynb",
      "provenance": [],
      "include_colab_link": true
    },
    "kernelspec": {
      "name": "python3",
      "display_name": "Python 3"
    },
    "accelerator": "GPU"
  },
  "cells": [
    {
      "cell_type": "markdown",
      "metadata": {
        "id": "view-in-github",
        "colab_type": "text"
      },
      "source": [
        "<a href=\"https://colab.research.google.com/github/LilianYou/dark-lily/blob/master/3_pytorch.ipynb\" target=\"_parent\"><img src=\"https://colab.research.google.com/assets/colab-badge.svg\" alt=\"Open In Colab\"/></a>"
      ]
    },
    {
      "cell_type": "code",
      "metadata": {
        "id": "-Y2QXQuU2gD_",
        "colab_type": "code",
        "colab": {}
      },
      "source": [
        "import torch"
      ],
      "execution_count": 0,
      "outputs": []
    },
    {
      "cell_type": "markdown",
      "metadata": {
        "id": "8tRBCOyB2ohj",
        "colab_type": "text"
      },
      "source": [
        "Create Tensors"
      ]
    },
    {
      "cell_type": "code",
      "metadata": {
        "id": "Zvnm0yaGxdIY",
        "colab_type": "code",
        "colab": {}
      },
      "source": [
        "b = torch.FloatTensor([[1,2,3],\n",
        "                       [3,2,1]])\n",
        "t = torch.FloatTensor([[1,0],[1,0]])"
      ],
      "execution_count": 0,
      "outputs": []
    },
    {
      "cell_type": "markdown",
      "metadata": {
        "id": "am0-5jKR2r1Q",
        "colab_type": "text"
      },
      "source": [
        "Basic operationts"
      ]
    },
    {
      "cell_type": "code",
      "metadata": {
        "id": "3O4jDUxiyVjC",
        "colab_type": "code",
        "colab": {}
      },
      "source": [
        "g = b*b #element-wise multiplication"
      ],
      "execution_count": 0,
      "outputs": []
    },
    {
      "cell_type": "code",
      "metadata": {
        "id": "9cva8nxeyE3a",
        "colab_type": "code",
        "outputId": "afd6b215-dae7-48cd-b3d1-2637b9252d33",
        "colab": {
          "base_uri": "https://localhost:8080/",
          "height": 52
        }
      },
      "source": [
        "torch.mm(b,b.transpose(0,1))"
      ],
      "execution_count": 0,
      "outputs": [
        {
          "output_type": "execute_result",
          "data": {
            "text/plain": [
              "tensor([[14., 10.],\n",
              "        [10., 14.]])"
            ]
          },
          "metadata": {
            "tags": []
          },
          "execution_count": 14
        }
      ]
    },
    {
      "cell_type": "markdown",
      "metadata": {
        "id": "y5gxUXVo2482",
        "colab_type": "text"
      },
      "source": [
        ""
      ]
    },
    {
      "cell_type": "markdown",
      "metadata": {
        "id": "PKNRL6P72uKJ",
        "colab_type": "text"
      },
      "source": [
        "Autodifferentiation and Graph"
      ]
    },
    {
      "cell_type": "code",
      "metadata": {
        "id": "bvtQpFvAyUKQ",
        "colab_type": "code",
        "colab": {}
      },
      "source": [
        "v1 = torch.tensor([1.0, 1.0], requires_grad=True)\n",
        "v2 = torch.tensor([2.0, 2.0])\n",
        "v_sum = v1 + v2\n",
        "v_res = (v_sum*2).sum()"
      ],
      "execution_count": 0,
      "outputs": []
    },
    {
      "cell_type": "code",
      "metadata": {
        "id": "0eRlTtMkygLj",
        "colab_type": "code",
        "outputId": "c6c5024f-1666-42f1-c4c6-337fddbe3788",
        "colab": {
          "base_uri": "https://localhost:8080/",
          "height": 34
        }
      },
      "source": [
        "v_res.backward() #this command computes the gradient\n",
        "v1.grad"
      ],
      "execution_count": 0,
      "outputs": [
        {
          "output_type": "execute_result",
          "data": {
            "text/plain": [
              "tensor([2., 2.])"
            ]
          },
          "metadata": {
            "tags": []
          },
          "execution_count": 16
        }
      ]
    },
    {
      "cell_type": "markdown",
      "metadata": {
        "id": "TtiIHx5v2xED",
        "colab_type": "text"
      },
      "source": [
        "Device (be sure to enable a GPU runtime)"
      ]
    },
    {
      "cell_type": "code",
      "metadata": {
        "id": "VlCpGipAy4sb",
        "colab_type": "code",
        "outputId": "6aebbf14-de7b-4e55-9fb2-0ccce8cf3aa0",
        "colab": {
          "base_uri": "https://localhost:8080/",
          "height": 34
        }
      },
      "source": [
        "b.device"
      ],
      "execution_count": 0,
      "outputs": [
        {
          "output_type": "execute_result",
          "data": {
            "text/plain": [
              "device(type='cpu')"
            ]
          },
          "metadata": {
            "tags": []
          },
          "execution_count": 17
        }
      ]
    },
    {
      "cell_type": "code",
      "metadata": {
        "id": "RZhHeoRHy7qz",
        "colab_type": "code",
        "colab": {}
      },
      "source": [
        "b_cuda = b.cuda()"
      ],
      "execution_count": 0,
      "outputs": []
    },
    {
      "cell_type": "markdown",
      "metadata": {
        "id": "JaApxKi321cq",
        "colab_type": "text"
      },
      "source": [
        "Neural Network Training"
      ]
    },
    {
      "cell_type": "code",
      "metadata": {
        "id": "-keILqHrakxq",
        "colab_type": "code",
        "outputId": "d089725f-ed5e-4799-c4b2-2cbab59421d2",
        "colab": {
          "base_uri": "https://localhost:8080/",
          "height": 330
        }
      },
      "source": [
        "my_module = torch.nn.Module()\n",
        "my_module()"
      ],
      "execution_count": 0,
      "outputs": [
        {
          "output_type": "error",
          "ename": "NotImplementedError",
          "evalue": "ignored",
          "traceback": [
            "\u001b[0;31m---------------------------------------------------------------------------\u001b[0m",
            "\u001b[0;31mNotImplementedError\u001b[0m                       Traceback (most recent call last)",
            "\u001b[0;32m<ipython-input-19-8d13ffc4c1fb>\u001b[0m in \u001b[0;36m<module>\u001b[0;34m()\u001b[0m\n\u001b[1;32m      1\u001b[0m \u001b[0mmy_module\u001b[0m \u001b[0;34m=\u001b[0m \u001b[0mtorch\u001b[0m\u001b[0;34m.\u001b[0m\u001b[0mnn\u001b[0m\u001b[0;34m.\u001b[0m\u001b[0mModule\u001b[0m\u001b[0;34m(\u001b[0m\u001b[0;34m)\u001b[0m\u001b[0;34m\u001b[0m\u001b[0;34m\u001b[0m\u001b[0m\n\u001b[0;32m----> 2\u001b[0;31m \u001b[0mmy_module\u001b[0m\u001b[0;34m(\u001b[0m\u001b[0;34m)\u001b[0m\u001b[0;34m\u001b[0m\u001b[0;34m\u001b[0m\u001b[0m\n\u001b[0m",
            "\u001b[0;32m/usr/local/lib/python3.6/dist-packages/torch/nn/modules/module.py\u001b[0m in \u001b[0;36m__call__\u001b[0;34m(self, *input, **kwargs)\u001b[0m\n\u001b[1;32m    539\u001b[0m             \u001b[0mresult\u001b[0m \u001b[0;34m=\u001b[0m \u001b[0mself\u001b[0m\u001b[0;34m.\u001b[0m\u001b[0m_slow_forward\u001b[0m\u001b[0;34m(\u001b[0m\u001b[0;34m*\u001b[0m\u001b[0minput\u001b[0m\u001b[0;34m,\u001b[0m \u001b[0;34m**\u001b[0m\u001b[0mkwargs\u001b[0m\u001b[0;34m)\u001b[0m\u001b[0;34m\u001b[0m\u001b[0;34m\u001b[0m\u001b[0m\n\u001b[1;32m    540\u001b[0m         \u001b[0;32melse\u001b[0m\u001b[0;34m:\u001b[0m\u001b[0;34m\u001b[0m\u001b[0;34m\u001b[0m\u001b[0m\n\u001b[0;32m--> 541\u001b[0;31m             \u001b[0mresult\u001b[0m \u001b[0;34m=\u001b[0m \u001b[0mself\u001b[0m\u001b[0;34m.\u001b[0m\u001b[0mforward\u001b[0m\u001b[0;34m(\u001b[0m\u001b[0;34m*\u001b[0m\u001b[0minput\u001b[0m\u001b[0;34m,\u001b[0m \u001b[0;34m**\u001b[0m\u001b[0mkwargs\u001b[0m\u001b[0;34m)\u001b[0m\u001b[0;34m\u001b[0m\u001b[0;34m\u001b[0m\u001b[0m\n\u001b[0m\u001b[1;32m    542\u001b[0m         \u001b[0;32mfor\u001b[0m \u001b[0mhook\u001b[0m \u001b[0;32min\u001b[0m \u001b[0mself\u001b[0m\u001b[0;34m.\u001b[0m\u001b[0m_forward_hooks\u001b[0m\u001b[0;34m.\u001b[0m\u001b[0mvalues\u001b[0m\u001b[0;34m(\u001b[0m\u001b[0;34m)\u001b[0m\u001b[0;34m:\u001b[0m\u001b[0;34m\u001b[0m\u001b[0;34m\u001b[0m\u001b[0m\n\u001b[1;32m    543\u001b[0m             \u001b[0mhook_result\u001b[0m \u001b[0;34m=\u001b[0m \u001b[0mhook\u001b[0m\u001b[0;34m(\u001b[0m\u001b[0mself\u001b[0m\u001b[0;34m,\u001b[0m \u001b[0minput\u001b[0m\u001b[0;34m,\u001b[0m \u001b[0mresult\u001b[0m\u001b[0;34m)\u001b[0m\u001b[0;34m\u001b[0m\u001b[0;34m\u001b[0m\u001b[0m\n",
            "\u001b[0;32m/usr/local/lib/python3.6/dist-packages/torch/nn/modules/module.py\u001b[0m in \u001b[0;36mforward\u001b[0;34m(self, *input)\u001b[0m\n\u001b[1;32m     95\u001b[0m             \u001b[0mregistered\u001b[0m \u001b[0mhooks\u001b[0m \u001b[0;32mwhile\u001b[0m \u001b[0mthe\u001b[0m \u001b[0mlatter\u001b[0m \u001b[0msilently\u001b[0m \u001b[0mignores\u001b[0m \u001b[0mthem\u001b[0m\u001b[0;34m.\u001b[0m\u001b[0;34m\u001b[0m\u001b[0;34m\u001b[0m\u001b[0m\n\u001b[1;32m     96\u001b[0m         \"\"\"\n\u001b[0;32m---> 97\u001b[0;31m         \u001b[0;32mraise\u001b[0m \u001b[0mNotImplementedError\u001b[0m\u001b[0;34m\u001b[0m\u001b[0;34m\u001b[0m\u001b[0m\n\u001b[0m\u001b[1;32m     98\u001b[0m \u001b[0;34m\u001b[0m\u001b[0m\n\u001b[1;32m     99\u001b[0m     \u001b[0;32mdef\u001b[0m \u001b[0mregister_buffer\u001b[0m\u001b[0;34m(\u001b[0m\u001b[0mself\u001b[0m\u001b[0;34m,\u001b[0m \u001b[0mname\u001b[0m\u001b[0;34m,\u001b[0m \u001b[0mtensor\u001b[0m\u001b[0;34m)\u001b[0m\u001b[0;34m:\u001b[0m\u001b[0;34m\u001b[0m\u001b[0;34m\u001b[0m\u001b[0m\n",
            "\u001b[0;31mNotImplementedError\u001b[0m: "
          ]
        }
      ]
    },
    {
      "cell_type": "code",
      "metadata": {
        "id": "hcpRdgUnBrNe",
        "colab_type": "code",
        "colab": {}
      },
      "source": [
        "lin = torch.nn.Linear(5,2)"
      ],
      "execution_count": 0,
      "outputs": []
    },
    {
      "cell_type": "code",
      "metadata": {
        "id": "8KuYl5oHBvvE",
        "colab_type": "code",
        "outputId": "44f9ba46-f285-49d8-c81a-5e6dda50dc03",
        "colab": {
          "base_uri": "https://localhost:8080/",
          "height": 34
        }
      },
      "source": [
        "x = torch.ones([1,5])\n",
        "lin(x)"
      ],
      "execution_count": 0,
      "outputs": [
        {
          "output_type": "execute_result",
          "data": {
            "text/plain": [
              "tensor([[-0.2875, -0.3653]], grad_fn=<AddmmBackward>)"
            ]
          },
          "metadata": {
            "tags": []
          },
          "execution_count": 21
        }
      ]
    },
    {
      "cell_type": "code",
      "metadata": {
        "id": "SFCWvnQAy-Xl",
        "colab_type": "code",
        "colab": {}
      },
      "source": [
        "my_first_nn = torch.nn.Sequential(torch.nn.Linear(3, 5),\n",
        "                                  torch.nn.Sigmoid(), #this is an activation function\n",
        "                                  torch.nn.Linear(5, 20),\n",
        "                                  torch.nn.Sigmoid(),\n",
        "                                  torch.nn.Linear(20, 2))"
      ],
      "execution_count": 0,
      "outputs": []
    },
    {
      "cell_type": "code",
      "metadata": {
        "id": "Z0TCAkQ0HDBg",
        "colab_type": "code",
        "outputId": "6de51da4-95e7-464b-82d7-a5a714629ad6",
        "colab": {
          "base_uri": "https://localhost:8080/",
          "height": 139
        }
      },
      "source": [
        "my_first_nn"
      ],
      "execution_count": 0,
      "outputs": [
        {
          "output_type": "execute_result",
          "data": {
            "text/plain": [
              "Sequential(\n",
              "  (0): Linear(in_features=3, out_features=5, bias=True)\n",
              "  (1): Sigmoid()\n",
              "  (2): Linear(in_features=5, out_features=20, bias=True)\n",
              "  (3): Sigmoid()\n",
              "  (4): Linear(in_features=20, out_features=2, bias=True)\n",
              ")"
            ]
          },
          "metadata": {
            "tags": []
          },
          "execution_count": 23
        }
      ]
    },
    {
      "cell_type": "code",
      "metadata": {
        "id": "8bFxEuNo0ery",
        "colab_type": "code",
        "outputId": "3ac3bb4e-6a07-410e-e999-9e9faaf640b8",
        "colab": {
          "base_uri": "https://localhost:8080/",
          "height": 52
        }
      },
      "source": [
        "my_first_nn(b)"
      ],
      "execution_count": 0,
      "outputs": [
        {
          "output_type": "execute_result",
          "data": {
            "text/plain": [
              "tensor([[-0.0858, -0.0465],\n",
              "        [-0.0763, -0.0354]], grad_fn=<AddmmBackward>)"
            ]
          },
          "metadata": {
            "tags": []
          },
          "execution_count": 24
        }
      ]
    },
    {
      "cell_type": "code",
      "metadata": {
        "id": "R3gaL2OXnAyM",
        "colab_type": "code",
        "colab": {}
      },
      "source": [
        "class MySecondNetwork(torch.nn.Module):\n",
        "    def __init__(self, n1, n2, n3, num_classes):\n",
        "        super(MySecondNetwork, self).__init__()\n",
        "        self.layer1 = torch.nn.Linear(n1,n2)\n",
        "        self.layer2 = torch.nn.Linear(n2,n3)\n",
        "        self.layer3 = torch.nn.Linear(n3,num_classes)\n",
        "\n",
        "    def forward(self, data):\n",
        "        y1 = self.layer1(data)\n",
        "        y2 = self.layer2(y1  )\n",
        "        y3 = self.layer3(y2  )\n",
        "        return y3\n",
        "\n",
        "my_second_net = MySecondNetwork(3,10,5,2)"
      ],
      "execution_count": 0,
      "outputs": []
    },
    {
      "cell_type": "code",
      "metadata": {
        "id": "BbsDbCC5I4Pz",
        "colab_type": "code",
        "outputId": "71583087-cbc0-473b-be37-2e4e7ddd0d90",
        "colab": {
          "base_uri": "https://localhost:8080/",
          "height": 52
        }
      },
      "source": [
        "my_second_net(b)"
      ],
      "execution_count": 0,
      "outputs": [
        {
          "output_type": "execute_result",
          "data": {
            "text/plain": [
              "tensor([[ 0.2520, -0.3847],\n",
              "        [ 0.5542, -0.5533]], grad_fn=<AddmmBackward>)"
            ]
          },
          "metadata": {
            "tags": []
          },
          "execution_count": 49
        }
      ]
    },
    {
      "cell_type": "code",
      "metadata": {
        "id": "1ugW_QeB0ggJ",
        "colab_type": "code",
        "outputId": "53b54136-a3dc-47ea-aeb4-47b509260cf1",
        "colab": {
          "base_uri": "https://localhost:8080/",
          "height": 746
        }
      },
      "source": [
        "list(my_first_nn.parameters())"
      ],
      "execution_count": 0,
      "outputs": [
        {
          "output_type": "execute_result",
          "data": {
            "text/plain": [
              "[Parameter containing:\n",
              " tensor([[-0.0073, -0.2187,  0.3011],\n",
              "         [-0.2412, -0.0458, -0.2390],\n",
              "         [ 0.5364, -0.0743,  0.5549],\n",
              "         [ 0.2180,  0.0236, -0.1525],\n",
              "         [-0.4591, -0.2131,  0.2306]], requires_grad=True),\n",
              " Parameter containing:\n",
              " tensor([-0.1602, -0.2406, -0.1462,  0.5278, -0.5606], requires_grad=True),\n",
              " Parameter containing:\n",
              " tensor([[ 0.0743,  0.0815, -0.0134,  0.3245,  0.3013],\n",
              "         [-0.3582,  0.1390,  0.3787, -0.0169,  0.3190],\n",
              "         [ 0.1358,  0.4297,  0.4420, -0.1363,  0.0970],\n",
              "         [-0.2841, -0.4066, -0.1415, -0.0718,  0.0141],\n",
              "         [ 0.1770,  0.2564, -0.2417,  0.3352,  0.1705],\n",
              "         [ 0.2232, -0.1397, -0.2036,  0.2686,  0.4103],\n",
              "         [ 0.2349,  0.2487, -0.3935, -0.0609,  0.4038],\n",
              "         [ 0.2981, -0.1936,  0.1665, -0.3591, -0.2235],\n",
              "         [-0.3421,  0.3367, -0.1088,  0.2141,  0.4307],\n",
              "         [-0.3633,  0.3423,  0.3894, -0.2816, -0.1785],\n",
              "         [-0.2460,  0.2014, -0.2409, -0.1150, -0.2730],\n",
              "         [ 0.2178, -0.2646, -0.0275,  0.3773,  0.4292],\n",
              "         [-0.1474, -0.1920,  0.0181, -0.4059,  0.4153],\n",
              "         [-0.2193, -0.3160,  0.2551,  0.2373, -0.2356],\n",
              "         [ 0.3597, -0.0616, -0.3341,  0.1344, -0.0413],\n",
              "         [ 0.3221,  0.1506,  0.0257, -0.2280, -0.3748],\n",
              "         [-0.2375, -0.0893,  0.0393,  0.3492, -0.2026],\n",
              "         [-0.2805, -0.3920,  0.2744,  0.1345,  0.0621],\n",
              "         [-0.0640, -0.3042, -0.4207, -0.1425, -0.3988],\n",
              "         [ 0.0330,  0.2443,  0.1906, -0.2993,  0.3317]], requires_grad=True),\n",
              " Parameter containing:\n",
              " tensor([-0.2217, -0.0864, -0.0351,  0.3388,  0.4318, -0.2320, -0.2385, -0.4364,\n",
              "         -0.3378, -0.0529, -0.2998,  0.3498, -0.1919,  0.2675, -0.0201, -0.0047,\n",
              "          0.2718,  0.2278,  0.3405,  0.1949], requires_grad=True),\n",
              " Parameter containing:\n",
              " tensor([[ 0.1971,  0.0053, -0.0359, -0.1222,  0.0881, -0.2091, -0.1995,  0.0963,\n",
              "           0.1035, -0.0956, -0.0937, -0.0974,  0.0163,  0.1224,  0.0745,  0.0118,\n",
              "          -0.0438, -0.0369,  0.0425, -0.0697],\n",
              "         [ 0.1058, -0.0286, -0.1159,  0.1624, -0.1370,  0.0654, -0.0407, -0.1551,\n",
              "           0.0289,  0.1755, -0.1014,  0.0283,  0.1915, -0.0324, -0.1536, -0.2023,\n",
              "           0.0890,  0.1893,  0.1745, -0.1175]], requires_grad=True),\n",
              " Parameter containing:\n",
              " tensor([ 0.0286, -0.0890], requires_grad=True)]"
            ]
          },
          "metadata": {
            "tags": []
          },
          "execution_count": 25
        }
      ]
    },
    {
      "cell_type": "code",
      "metadata": {
        "id": "D6kvmT6M0lzv",
        "colab_type": "code",
        "outputId": "d0cbcc6b-b0f0-4f8b-9838-42491671eb37",
        "colab": {
          "base_uri": "https://localhost:8080/",
          "height": 34
        }
      },
      "source": [
        "mse_loss = torch.nn.MSELoss()\n",
        "loss = mse_loss(my_first_nn(b), t)\n",
        "loss"
      ],
      "execution_count": 0,
      "outputs": [
        {
          "output_type": "execute_result",
          "data": {
            "text/plain": [
              "tensor(0.5852, grad_fn=<MseLossBackward>)"
            ]
          },
          "metadata": {
            "tags": []
          },
          "execution_count": 26
        }
      ]
    },
    {
      "cell_type": "code",
      "metadata": {
        "id": "pr7PcKxi2FLe",
        "colab_type": "code",
        "colab": {}
      },
      "source": [
        "opt = torch.optim.SGD(my_first_nn.parameters(), lr=1e-3)"
      ],
      "execution_count": 0,
      "outputs": []
    },
    {
      "cell_type": "code",
      "metadata": {
        "id": "V9FIgZyN1SnN",
        "colab_type": "code",
        "outputId": "90c0c53f-c10b-4dee-9735-0252906a472b",
        "colab": {
          "base_uri": "https://localhost:8080/",
          "height": 1000
        }
      },
      "source": [
        "def train_step(data, tgt, net, opt_fn, loss_fn):\n",
        "    y = net(data)\n",
        "    loss = loss_fn(y, tgt)\n",
        "    loss.backward()\n",
        "    opt_fn.step()\n",
        "    opt_fn.zero_grad()\n",
        "    return loss\n",
        "\n",
        "for i in range(100):\n",
        "    print(train_step(b, t, my_first_nn, opt, mse_loss)  )"
      ],
      "execution_count": 0,
      "outputs": [
        {
          "output_type": "stream",
          "text": [
            "tensor(0.5852, grad_fn=<MseLossBackward>)\n",
            "tensor(0.5778, grad_fn=<MseLossBackward>)\n",
            "tensor(0.5705, grad_fn=<MseLossBackward>)\n",
            "tensor(0.5633, grad_fn=<MseLossBackward>)\n",
            "tensor(0.5561, grad_fn=<MseLossBackward>)\n",
            "tensor(0.5491, grad_fn=<MseLossBackward>)\n",
            "tensor(0.5422, grad_fn=<MseLossBackward>)\n",
            "tensor(0.5353, grad_fn=<MseLossBackward>)\n",
            "tensor(0.5285, grad_fn=<MseLossBackward>)\n",
            "tensor(0.5218, grad_fn=<MseLossBackward>)\n",
            "tensor(0.5152, grad_fn=<MseLossBackward>)\n",
            "tensor(0.5087, grad_fn=<MseLossBackward>)\n",
            "tensor(0.5023, grad_fn=<MseLossBackward>)\n",
            "tensor(0.4959, grad_fn=<MseLossBackward>)\n",
            "tensor(0.4896, grad_fn=<MseLossBackward>)\n",
            "tensor(0.4834, grad_fn=<MseLossBackward>)\n",
            "tensor(0.4773, grad_fn=<MseLossBackward>)\n",
            "tensor(0.4713, grad_fn=<MseLossBackward>)\n",
            "tensor(0.4653, grad_fn=<MseLossBackward>)\n",
            "tensor(0.4594, grad_fn=<MseLossBackward>)\n",
            "tensor(0.4536, grad_fn=<MseLossBackward>)\n",
            "tensor(0.4479, grad_fn=<MseLossBackward>)\n",
            "tensor(0.4422, grad_fn=<MseLossBackward>)\n",
            "tensor(0.4366, grad_fn=<MseLossBackward>)\n",
            "tensor(0.4311, grad_fn=<MseLossBackward>)\n",
            "tensor(0.4256, grad_fn=<MseLossBackward>)\n",
            "tensor(0.4203, grad_fn=<MseLossBackward>)\n",
            "tensor(0.4149, grad_fn=<MseLossBackward>)\n",
            "tensor(0.4097, grad_fn=<MseLossBackward>)\n",
            "tensor(0.4045, grad_fn=<MseLossBackward>)\n",
            "tensor(0.3994, grad_fn=<MseLossBackward>)\n",
            "tensor(0.3943, grad_fn=<MseLossBackward>)\n",
            "tensor(0.3893, grad_fn=<MseLossBackward>)\n",
            "tensor(0.3844, grad_fn=<MseLossBackward>)\n",
            "tensor(0.3795, grad_fn=<MseLossBackward>)\n",
            "tensor(0.3747, grad_fn=<MseLossBackward>)\n",
            "tensor(0.3700, grad_fn=<MseLossBackward>)\n",
            "tensor(0.3653, grad_fn=<MseLossBackward>)\n",
            "tensor(0.3607, grad_fn=<MseLossBackward>)\n",
            "tensor(0.3561, grad_fn=<MseLossBackward>)\n",
            "tensor(0.3516, grad_fn=<MseLossBackward>)\n",
            "tensor(0.3472, grad_fn=<MseLossBackward>)\n",
            "tensor(0.3428, grad_fn=<MseLossBackward>)\n",
            "tensor(0.3384, grad_fn=<MseLossBackward>)\n",
            "tensor(0.3342, grad_fn=<MseLossBackward>)\n",
            "tensor(0.3299, grad_fn=<MseLossBackward>)\n",
            "tensor(0.3257, grad_fn=<MseLossBackward>)\n",
            "tensor(0.3216, grad_fn=<MseLossBackward>)\n",
            "tensor(0.3176, grad_fn=<MseLossBackward>)\n",
            "tensor(0.3135, grad_fn=<MseLossBackward>)\n",
            "tensor(0.3096, grad_fn=<MseLossBackward>)\n",
            "tensor(0.3057, grad_fn=<MseLossBackward>)\n",
            "tensor(0.3018, grad_fn=<MseLossBackward>)\n",
            "tensor(0.2980, grad_fn=<MseLossBackward>)\n",
            "tensor(0.2942, grad_fn=<MseLossBackward>)\n",
            "tensor(0.2905, grad_fn=<MseLossBackward>)\n",
            "tensor(0.2868, grad_fn=<MseLossBackward>)\n",
            "tensor(0.2832, grad_fn=<MseLossBackward>)\n",
            "tensor(0.2796, grad_fn=<MseLossBackward>)\n",
            "tensor(0.2760, grad_fn=<MseLossBackward>)\n",
            "tensor(0.2725, grad_fn=<MseLossBackward>)\n",
            "tensor(0.2691, grad_fn=<MseLossBackward>)\n",
            "tensor(0.2657, grad_fn=<MseLossBackward>)\n",
            "tensor(0.2623, grad_fn=<MseLossBackward>)\n",
            "tensor(0.2590, grad_fn=<MseLossBackward>)\n",
            "tensor(0.2557, grad_fn=<MseLossBackward>)\n",
            "tensor(0.2525, grad_fn=<MseLossBackward>)\n",
            "tensor(0.2493, grad_fn=<MseLossBackward>)\n",
            "tensor(0.2461, grad_fn=<MseLossBackward>)\n",
            "tensor(0.2430, grad_fn=<MseLossBackward>)\n",
            "tensor(0.2399, grad_fn=<MseLossBackward>)\n",
            "tensor(0.2369, grad_fn=<MseLossBackward>)\n",
            "tensor(0.2339, grad_fn=<MseLossBackward>)\n",
            "tensor(0.2309, grad_fn=<MseLossBackward>)\n",
            "tensor(0.2280, grad_fn=<MseLossBackward>)\n",
            "tensor(0.2251, grad_fn=<MseLossBackward>)\n",
            "tensor(0.2223, grad_fn=<MseLossBackward>)\n",
            "tensor(0.2195, grad_fn=<MseLossBackward>)\n",
            "tensor(0.2167, grad_fn=<MseLossBackward>)\n",
            "tensor(0.2139, grad_fn=<MseLossBackward>)\n",
            "tensor(0.2112, grad_fn=<MseLossBackward>)\n",
            "tensor(0.2086, grad_fn=<MseLossBackward>)\n",
            "tensor(0.2059, grad_fn=<MseLossBackward>)\n",
            "tensor(0.2033, grad_fn=<MseLossBackward>)\n",
            "tensor(0.2007, grad_fn=<MseLossBackward>)\n",
            "tensor(0.1982, grad_fn=<MseLossBackward>)\n",
            "tensor(0.1957, grad_fn=<MseLossBackward>)\n",
            "tensor(0.1932, grad_fn=<MseLossBackward>)\n",
            "tensor(0.1908, grad_fn=<MseLossBackward>)\n",
            "tensor(0.1884, grad_fn=<MseLossBackward>)\n",
            "tensor(0.1860, grad_fn=<MseLossBackward>)\n",
            "tensor(0.1836, grad_fn=<MseLossBackward>)\n",
            "tensor(0.1813, grad_fn=<MseLossBackward>)\n",
            "tensor(0.1790, grad_fn=<MseLossBackward>)\n",
            "tensor(0.1767, grad_fn=<MseLossBackward>)\n",
            "tensor(0.1745, grad_fn=<MseLossBackward>)\n",
            "tensor(0.1723, grad_fn=<MseLossBackward>)\n",
            "tensor(0.1701, grad_fn=<MseLossBackward>)\n",
            "tensor(0.1679, grad_fn=<MseLossBackward>)\n",
            "tensor(0.1658, grad_fn=<MseLossBackward>)\n"
          ],
          "name": "stdout"
        }
      ]
    },
    {
      "cell_type": "code",
      "metadata": {
        "id": "6nOnQKFml7X_",
        "colab_type": "code",
        "outputId": "5e04648b-2568-4cb9-c1d3-a33e397dca4e",
        "colab": {
          "base_uri": "https://localhost:8080/",
          "height": 280
        }
      },
      "source": [
        "\n",
        "\n",
        "from torchvision import datasets, transforms\n",
        "\n",
        "train_loader = torch.utils.data.DataLoader(\n",
        "                      datasets.MNIST('./data',\n",
        "                                     train=True, download=True,\n",
        "                                     transform=transforms.Compose([\n",
        "                                                    transforms.ToTensor(),\n",
        "                                                    transforms.Normalize((0.1307,), (0.3081,))\n",
        "                                                    ])\n",
        "                                     ), batch_size=100, shuffle=True)"
      ],
      "execution_count": 0,
      "outputs": [
        {
          "output_type": "stream",
          "text": [
            "\r0it [00:00, ?it/s]"
          ],
          "name": "stderr"
        },
        {
          "output_type": "stream",
          "text": [
            "Downloading http://yann.lecun.com/exdb/mnist/train-images-idx3-ubyte.gz to ./data/MNIST/raw/train-images-idx3-ubyte.gz\n"
          ],
          "name": "stdout"
        },
        {
          "output_type": "stream",
          "text": [
            "9920512it [00:01, 9380793.17it/s]                            \n"
          ],
          "name": "stderr"
        },
        {
          "output_type": "stream",
          "text": [
            "Extracting ./data/MNIST/raw/train-images-idx3-ubyte.gz to ./data/MNIST/raw\n"
          ],
          "name": "stdout"
        },
        {
          "output_type": "stream",
          "text": [
            "  0%|          | 0/28881 [00:00<?, ?it/s]"
          ],
          "name": "stderr"
        },
        {
          "output_type": "stream",
          "text": [
            "Downloading http://yann.lecun.com/exdb/mnist/train-labels-idx1-ubyte.gz to ./data/MNIST/raw/train-labels-idx1-ubyte.gz\n"
          ],
          "name": "stdout"
        },
        {
          "output_type": "stream",
          "text": [
            "32768it [00:00, 136112.27it/s]           \n",
            "  0%|          | 0/1648877 [00:00<?, ?it/s]"
          ],
          "name": "stderr"
        },
        {
          "output_type": "stream",
          "text": [
            "Extracting ./data/MNIST/raw/train-labels-idx1-ubyte.gz to ./data/MNIST/raw\n",
            "Downloading http://yann.lecun.com/exdb/mnist/t10k-images-idx3-ubyte.gz to ./data/MNIST/raw/t10k-images-idx3-ubyte.gz\n"
          ],
          "name": "stdout"
        },
        {
          "output_type": "stream",
          "text": [
            "1654784it [00:00, 2481354.86it/s]                           \n",
            "0it [00:00, ?it/s]"
          ],
          "name": "stderr"
        },
        {
          "output_type": "stream",
          "text": [
            "Extracting ./data/MNIST/raw/t10k-images-idx3-ubyte.gz to ./data/MNIST/raw\n",
            "Downloading http://yann.lecun.com/exdb/mnist/t10k-labels-idx1-ubyte.gz to ./data/MNIST/raw/t10k-labels-idx1-ubyte.gz\n"
          ],
          "name": "stdout"
        },
        {
          "output_type": "stream",
          "text": [
            "8192it [00:00, 52210.20it/s]            "
          ],
          "name": "stderr"
        },
        {
          "output_type": "stream",
          "text": [
            "Extracting ./data/MNIST/raw/t10k-labels-idx1-ubyte.gz to ./data/MNIST/raw\n",
            "Processing...\n",
            "Done!\n"
          ],
          "name": "stdout"
        },
        {
          "output_type": "stream",
          "text": [
            "\n"
          ],
          "name": "stderr"
        }
      ]
    },
    {
      "cell_type": "code",
      "metadata": {
        "id": "seNfVCE-l-r8",
        "colab_type": "code",
        "colab": {}
      },
      "source": [
        "data, target = next(iter(train_loader))\n"
      ],
      "execution_count": 0,
      "outputs": []
    },
    {
      "cell_type": "code",
      "metadata": {
        "id": "traPFhknmIYZ",
        "colab_type": "code",
        "outputId": "252a0b34-784b-44da-a720-391e2332e0c4",
        "colab": {
          "base_uri": "https://localhost:8080/",
          "height": 282
        }
      },
      "source": [
        "from pylab import *\n",
        "imshow(data[0,0])"
      ],
      "execution_count": 0,
      "outputs": [
        {
          "output_type": "execute_result",
          "data": {
            "text/plain": [
              "<matplotlib.image.AxesImage at 0x7fb2e888fb70>"
            ]
          },
          "metadata": {
            "tags": []
          },
          "execution_count": 31
        },
        {
          "output_type": "display_data",
          "data": {
            "image/png": "[encoded data removed]",
            "text/plain": [
              "<Figure size 432x288 with 1 Axes>"
            ]
          },
          "metadata": {
            "tags": []
          }
        }
      ]
    },
    {
      "cell_type": "code",
      "metadata": {
        "id": "yjyjec0_JV0S",
        "colab_type": "code",
        "outputId": "0f0eb8c0-da01-4716-e835-8160c4ecf7f4",
        "colab": {
          "base_uri": "https://localhost:8080/",
          "height": 34
        }
      },
      "source": [
        "b.shape"
      ],
      "execution_count": 0,
      "outputs": [
        {
          "output_type": "execute_result",
          "data": {
            "text/plain": [
              "torch.Size([2, 3])"
            ]
          },
          "metadata": {
            "tags": []
          },
          "execution_count": 47
        }
      ]
    },
    {
      "cell_type": "code",
      "metadata": {
        "id": "mjyy_417KOfB",
        "colab_type": "code",
        "colab": {}
      },
      "source": [
        ""
      ],
      "execution_count": 0,
      "outputs": []
    }
  ]
}