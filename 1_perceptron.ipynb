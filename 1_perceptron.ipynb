{
  "nbformat": 4,
  "nbformat_minor": 0,
  "metadata": {
    "colab": {
      "name": "1_perceptron.ipynb",
      "provenance": [],
      "collapsed_sections": [],
      "include_colab_link": true
    },
    "kernelspec": {
      "name": "python3",
      "display_name": "Python 3"
    }
  },
  "cells": [
    {
      "cell_type": "markdown",
      "metadata": {
        "id": "view-in-github",
        "colab_type": "text"
      },
      "source": [
        "<a href=\"https://colab.research.google.com/github/LilianYou/dark-lily/blob/master/1_perceptron.ipynb\" target=\"_parent\"><img src=\"https://colab.research.google.com/assets/colab-badge.svg\" alt=\"Open In Colab\"/></a>"
      ]
    },
    {
      "cell_type": "markdown",
      "metadata": {
        "id": "GqQjPRdvSHIZ",
        "colab_type": "text"
      },
      "source": [
        "\n",
        "# PSYCH239 Lecture 1: Perceptron Learning Rule"
      ]
    },
    {
      "cell_type": "code",
      "metadata": {
        "id": "IGllBO8hmE76",
        "colab_type": "code",
        "colab": {}
      },
      "source": [
        "import numpy as np"
      ],
      "execution_count": 0,
      "outputs": []
    },
    {
      "cell_type": "markdown",
      "metadata": {
        "id": "mQqn1jaZmVif",
        "colab_type": "text"
      },
      "source": [
        "Create Data (This data is linearly separable). We use here a trick that subsumes the bias into a weight, whose input is always 1"
      ]
    },
    {
      "cell_type": "code",
      "metadata": {
        "id": "5Kp7QXnSmcoO",
        "colab_type": "code",
        "colab": {}
      },
      "source": [
        "X = np.array([[ 1, 0.04187914, -0.16537444],\n",
        "        [ 1, 0.13746733,  0.60397647],\n",
        "        [ 1, 0.68489807,  0.78038369],\n",
        "        [ 1, 0.64652619, -0.05249682],\n",
        "        [1, -0.80712692,  0.68521631]])\n",
        "Y = np.array([-1,  1,  1, -1,  1])"
      ],
      "execution_count": 0,
      "outputs": []
    },
    {
      "cell_type": "code",
      "metadata": {
        "id": "1d0klRK9mQ0N",
        "colab_type": "code",
        "outputId": "920b800d-fdd3-4ecc-f021-dfd0672772eb",
        "colab": {
          "base_uri": "https://localhost:8080/",
          "height": 34
        }
      },
      "source": [
        "w = np.random.rand(len(X[0])) #first dimension is the bias\n",
        "w"
      ],
      "execution_count": 0,
      "outputs": [
        {
          "output_type": "execute_result",
          "data": {
            "text/plain": [
              "array([0.34870028, 0.22133861, 0.84540367])"
            ]
          },
          "metadata": {
            "tags": []
          },
          "execution_count": 4
        }
      ]
    },
    {
      "cell_type": "markdown",
      "metadata": {
        "id": "LAZimX459V1W",
        "colab_type": "text"
      },
      "source": [
        "![image.png](data:image/png;base64,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)"
      ]
    },
    {
      "cell_type": "markdown",
      "metadata": {
        "id": "a5ndLV8inxK1",
        "colab_type": "text"
      },
      "source": [
        "Of course, our prediction is incorrect:\n"
      ]
    },
    {
      "cell_type": "code",
      "metadata": {
        "id": "23cpltlNnNlh",
        "colab_type": "code",
        "outputId": "76e5d485-4d09-4dd6-a227-8a7475a192eb",
        "colab": {
          "base_uri": "https://localhost:8080/",
          "height": 34
        }
      },
      "source": [
        "hatY = np.sign(X@w) #\"@\"\" is a short hand for np.dot (=matrix product)\n",
        "hatY"
      ],
      "execution_count": 0,
      "outputs": [
        {
          "output_type": "execute_result",
          "data": {
            "text/plain": [
              "array([1., 1., 1., 1., 1.])"
            ]
          },
          "metadata": {
            "tags": []
          },
          "execution_count": 5
        }
      ]
    },
    {
      "cell_type": "markdown",
      "metadata": {
        "id": "xJ_dPfmCoC8q",
        "colab_type": "text"
      },
      "source": [
        "Now, let's calculate the error using the perceptron criterion\n"
      ]
    },
    {
      "cell_type": "code",
      "metadata": {
        "id": "90gDnflPn_xn",
        "colab_type": "code",
        "outputId": "27dfaedb-fc5c-43c7-f882-ca991c6100ae",
        "colab": {
          "base_uri": "https://localhost:8080/",
          "height": 34
        }
      },
      "source": [
        "error = hatY!=Y\n",
        "error"
      ],
      "execution_count": 0,
      "outputs": [
        {
          "output_type": "execute_result",
          "data": {
            "text/plain": [
              "array([ True, False, False,  True, False])"
            ]
          },
          "metadata": {
            "tags": []
          },
          "execution_count": 6
        }
      ]
    },
    {
      "cell_type": "code",
      "metadata": {
        "id": "aUvc0NnCorHn",
        "colab_type": "code",
        "outputId": "e5f7ee64-05d2-451f-b148-c4945e85da18",
        "colab": {
          "base_uri": "https://localhost:8080/",
          "height": 34
        }
      },
      "source": [
        "miscls = np.where(error)[0]\n",
        "miscls"
      ],
      "execution_count": 0,
      "outputs": [
        {
          "output_type": "execute_result",
          "data": {
            "text/plain": [
              "array([0, 3])"
            ]
          },
          "metadata": {
            "tags": []
          },
          "execution_count": 7
        }
      ]
    },
    {
      "cell_type": "markdown",
      "metadata": {
        "id": "KAN3TkxLpIuq",
        "colab_type": "text"
      },
      "source": [
        "Select one misclassified data sample at random:"
      ]
    },
    {
      "cell_type": "code",
      "metadata": {
        "id": "TcZWC-bAo3nl",
        "colab_type": "code",
        "colab": {}
      },
      "source": [
        "miscls_sample_index = miscls[np.random.randint(0,len(miscls))]\n",
        "x = X[miscls_sample_index]\n",
        "y = Y[miscls_sample_index]"
      ],
      "execution_count": 0,
      "outputs": []
    },
    {
      "cell_type": "markdown",
      "metadata": {
        "id": "lAIFmW2vp6xb",
        "colab_type": "text"
      },
      "source": [
        "Let's make an update. We will use a learning rate equal to .1"
      ]
    },
    {
      "cell_type": "code",
      "metadata": {
        "id": "PIdWLGu9pgRi",
        "colab_type": "code",
        "colab": {}
      },
      "source": [
        "w = w + .1*y*x"
      ],
      "execution_count": 0,
      "outputs": []
    },
    {
      "cell_type": "code",
      "metadata": {
        "id": "WxC1MbVYqMJW",
        "colab_type": "code",
        "outputId": "1f617e43-4dbc-4293-9673-4d1003d1ce00",
        "colab": {
          "base_uri": "https://localhost:8080/",
          "height": 34
        }
      },
      "source": [
        "hatY = np.sign(X@w) #\"@\"\" is a short hand for np.dot (=matrix product)\n",
        "hatY==Y"
      ],
      "execution_count": 0,
      "outputs": [
        {
          "output_type": "execute_result",
          "data": {
            "text/plain": [
              "array([False,  True,  True, False,  True])"
            ]
          },
          "metadata": {
            "tags": []
          },
          "execution_count": 10
        }
      ]
    },
    {
      "cell_type": "code",
      "metadata": {
        "id": "CowgvQsnqRxR",
        "colab_type": "code",
        "outputId": "dff04da8-bea9-40ea-968e-c574b43d299c",
        "colab": {
          "base_uri": "https://localhost:8080/",
          "height": 34
        }
      },
      "source": [
        "w"
      ],
      "execution_count": 0,
      "outputs": [
        {
          "output_type": "execute_result",
          "data": {
            "text/plain": [
              "array([0.24870028, 0.21715069, 0.86194111])"
            ]
          },
          "metadata": {
            "tags": []
          },
          "execution_count": 11
        }
      ]
    },
    {
      "cell_type": "markdown",
      "metadata": {
        "id": "bJsjwIy1qk-8",
        "colab_type": "text"
      },
      "source": [
        "This will need several iterations, so let's write it in a function"
      ]
    },
    {
      "cell_type": "code",
      "metadata": {
        "id": "yI036jf2qoCE",
        "colab_type": "code",
        "colab": {}
      },
      "source": [
        "def train(X,Y,w):\n",
        "    hatY = np.sign(X@w) #\"@\"\" is a short hand for np.dot (=matrix product)\n",
        "    error = hatY!=Y\n",
        "    miscls = np.where(error)[0]\n",
        "    if len(miscls)>0:\n",
        "        miscls_sample_index = miscls[np.random.randint(0,len(miscls))]\n",
        "        x = X[miscls_sample_index]\n",
        "        y = Y[miscls_sample_index]\n",
        "        w +=.1*y*x\n",
        "    return miscls"
      ],
      "execution_count": 0,
      "outputs": []
    },
    {
      "cell_type": "code",
      "metadata": {
        "id": "ZPcWjG2SrCdC",
        "colab_type": "code",
        "outputId": "c47edf79-ef2d-4f36-adc3-81309f6423b1",
        "colab": {
          "base_uri": "https://localhost:8080/",
          "height": 86
        }
      },
      "source": [
        "while len(miscls)>0:\n",
        "    miscls = train(X,Y,w)\n",
        "    print(len(miscls))"
      ],
      "execution_count": 0,
      "outputs": [
        {
          "output_type": "stream",
          "text": [
            "2\n",
            "2\n",
            "1\n",
            "0\n"
          ],
          "name": "stdout"
        }
      ]
    },
    {
      "cell_type": "code",
      "metadata": {
        "id": "AZo_3GN8J3YM",
        "colab_type": "code",
        "outputId": "b58d6986-3038-4605-b2bd-023dcafdba1f",
        "colab": {
          "base_uri": "https://localhost:8080/",
          "height": 34
        }
      },
      "source": [
        "np.sign(X@w)"
      ],
      "execution_count": 0,
      "outputs": [
        {
          "output_type": "execute_result",
          "data": {
            "text/plain": [
              "array([-1.,  1.,  1., -1.,  1.])"
            ]
          },
          "metadata": {
            "tags": []
          },
          "execution_count": 14
        }
      ]
    },
    {
      "cell_type": "code",
      "metadata": {
        "id": "9BKTBQyyxsW-",
        "colab_type": "code",
        "colab": {}
      },
      "source": [
        ""
      ],
      "execution_count": 0,
      "outputs": []
    }
  ]
}